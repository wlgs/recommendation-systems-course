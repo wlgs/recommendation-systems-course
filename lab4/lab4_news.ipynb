{
 "cells": [
  {
   "cell_type": "markdown",
   "metadata": {},
   "source": [
    "# Laboratorium 4 - rekomendacje dla portali informacyjnych\n",
    "\n",
    "## Przygotowanie\n",
    "\n",
    " * pobierz i wypakuj dataset: https://mind201910small.blob.core.windows.net/release/MINDsmall_train.zip\n",
    "   * więcej możesz poczytać tutaj: https://learn.microsoft.com/en-us/azure/open-datasets/dataset-microsoft-news\n",
    " * [opcjonalnie] Utwórz wirtualne środowisko\n",
    " `python3 -m venv ./recsyslab4`\n",
    " * zainstaluj potrzebne biblioteki:\n",
    " `pip install nltk sklearn`"
   ]
  },
  {
   "cell_type": "markdown",
   "metadata": {},
   "source": [
    "## Część 1. - przygotowanie danych"
   ]
  },
  {
   "cell_type": "code",
   "execution_count": 1,
   "metadata": {
    "ExecuteTime": {
     "end_time": "2023-11-15T01:45:30.625128Z",
     "start_time": "2023-11-15T01:45:28.807052500Z"
    }
   },
   "outputs": [
    {
     "name": "stderr",
     "output_type": "stream",
     "text": [
      "[nltk_data] Downloading package stopwords to\n",
      "[nltk_data]     C:\\Users\\WLGS\\AppData\\Roaming\\nltk_data...\n",
      "[nltk_data]   Package stopwords is already up-to-date!\n"
     ]
    }
   ],
   "source": [
    "# importujemy wszystkie potrzebne pakiety\n",
    "\n",
    "import codecs\n",
    "from collections import defaultdict # mozesz uzyc zamiast zwyklego slownika, rozwaz wplyw na czas obliczen\n",
    "import math\n",
    "import re\n",
    "from string import punctuation\n",
    "\n",
    "import nltk\n",
    "nltk.download('stopwords')\n",
    "\n",
    "from nltk.corpus import stopwords\n",
    "from nltk.stem import RSLPStemmer\n",
    "from nltk.stem import WordNetLemmatizer\n",
    "from nltk.stem.lancaster import LancasterStemmer\n",
    "from nltk.stem.porter import PorterStemmer\n",
    "from nltk.stem.snowball import SnowballStemmer\n",
    "\n",
    "# mozesz uzyc do obliczania najbardziej podobnych tekstow zamiast liczenia \"na piechote\"\n",
    "# ale pamietaj o dostosowaniu formatu danych\n",
    "from sklearn.neighbors import NearestNeighbors"
   ]
  },
  {
   "cell_type": "code",
   "execution_count": 2,
   "metadata": {
    "ExecuteTime": {
     "end_time": "2023-11-15T01:47:51.100932400Z",
     "start_time": "2023-11-15T01:47:51.085341500Z"
    }
   },
   "outputs": [],
   "source": [
    "# definiujemy potrzebne zmienne\n",
    "\n",
    "PATH = './MINDsmall_train'\n",
    "STOPWORDS = set(stopwords.words('english'))"
   ]
  },
  {
   "cell_type": "code",
   "execution_count": 3,
   "metadata": {
    "ExecuteTime": {
     "end_time": "2023-11-15T01:47:54.875146800Z",
     "start_time": "2023-11-15T01:47:54.614011700Z"
    }
   },
   "outputs": [
    {
     "name": "stdout",
     "output_type": "stream",
     "text": [
      "51282\n"
     ]
    }
   ],
   "source": [
    "# wczytujemy metadane artykułów\n",
    "\n",
    "def parse_news_entry(entry):\n",
    "    news_id, category, subcategory, title, abstract = entry.split('\\t')[:5]\n",
    "    return {\n",
    "        'news_id': news_id,\n",
    "        'category': category,\n",
    "        'subcategory': subcategory,\n",
    "        'title': title,\n",
    "        'abstract': abstract\n",
    "    }\n",
    "\n",
    "def get_news_metadata():\n",
    "    with codecs.open(f'{PATH}/news.tsv', 'r', 'UTF-8') as f:\n",
    "        raw = [x for x in f.read().split('\\n') if x]\n",
    "        parsed_entries = [parse_news_entry(entry) for entry in raw]\n",
    "        return {x['news_id']: x for x in parsed_entries}\n",
    "\n",
    "news = get_news_metadata()\n",
    "news_ids = sorted(list(news.keys()))\n",
    "news_indices = {x[1]: x[0] for x in enumerate(news_ids)}\n",
    "print(len(news))"
   ]
  },
  {
   "cell_type": "markdown",
   "metadata": {},
   "source": [
    "## Część 2. - TF-IDF"
   ]
  },
  {
   "cell_type": "code",
   "execution_count": 6,
   "metadata": {
    "ExecuteTime": {
     "end_time": "2023-11-15T01:49:45.466395100Z",
     "start_time": "2023-11-15T01:49:34.797716600Z"
    }
   },
   "outputs": [],
   "source": [
    "# normalizujemy teksty na potrzeby dalszego przetwarzania\n",
    "\n",
    "def preprocess_text(text: str):\n",
    "    # usuwamy znaki interpunkcyjne\n",
    "    preprocessed = re.sub(f'[{punctuation}]', '', text)\n",
    "    # usuwamy wszystkie liczby\n",
    "    preprocessed = re.sub(r'\\d+', '', preprocessed)\n",
    "    # podmieniamy wszystkie wielkie litery\n",
    "    preprocessed = preprocessed.lower()\n",
    "    # dzielimy na tokeny\n",
    "    preprocessed = preprocessed.split()\n",
    "    # usuwamy stopwords\n",
    "    preprocessed = [x for x in preprocessed if x not in STOPWORDS]\n",
    "    return preprocessed\n",
    "\n",
    "def stem_texts(corpus):\n",
    "    stemmer = SnowballStemmer('english')\n",
    "    return [[stemmer.stem(word) for word in preprocess_text(text)] for text in corpus]\n",
    "\n",
    "texts = [news[news_id]['abstract'] for news_id in news_ids]\n",
    "stemmed_texts = stem_texts(texts)"
   ]
  },
  {
   "cell_type": "code",
   "execution_count": 7,
   "metadata": {
    "ExecuteTime": {
     "end_time": "2023-11-15T01:49:49.909463500Z",
     "start_time": "2023-11-15T01:49:49.846942400Z"
    }
   },
   "outputs": [
    {
     "name": "stdout",
     "output_type": "stream",
     "text": [
      "\"I think we have a really good team, and a team that can really do some special, good things because that group is very close in there.\" - Brian Schmetzer\n",
      "\n",
      "think realli good team team realli special good thing group close brian schmetzer\n"
     ]
    }
   ],
   "source": [
    "# porownajmy teksty przed i po przetworzeniu\n",
    "\n",
    "print(texts[2] + '\\n')\n",
    "print(' '.join(stemmed_texts[2]))"
   ]
  },
  {
   "cell_type": "code",
   "execution_count": 8,
   "metadata": {
    "ExecuteTime": {
     "end_time": "2023-11-15T01:51:24.607038200Z",
     "start_time": "2023-11-15T01:51:24.449522900Z"
    }
   },
   "outputs": [
    {
     "name": "stdout",
     "output_type": "stream",
     "text": [
      "41852\n"
     ]
    }
   ],
   "source": [
    "# tworzymy liste wszystkich slow w korpusie\n",
    "\n",
    "def get_all_words_sorted(corpus):\n",
    "    # generujemy posortowana alfabetycznie liste wszystkich slow (tokenow)\n",
    "    return sorted(list(set([word for text in corpus for word in text])))\n",
    "\n",
    "wordlist = get_all_words_sorted(stemmed_texts)\n",
    "word_indices = {x[1]: x[0] for x in enumerate(wordlist)}\n",
    "print(len(wordlist))"
   ]
  },
  {
   "cell_type": "code",
   "execution_count": 9,
   "metadata": {
    "ExecuteTime": {
     "end_time": "2023-11-15T02:07:36.882083800Z",
     "start_time": "2023-11-15T01:56:39.345666Z"
    }
   },
   "outputs": [],
   "source": [
    "# obliczamy liczbe tekstow, w ktorych wystapilo kazde ze slow\n",
    "# pamietaj, ze jesli slowo wystapilo w danym tekscie wielokrotnie, to liczymy je tylko raz\n",
    "\n",
    "def get_document_frequencies(corpus, wordlist):\n",
    "    # return {word -> count}\n",
    "    result = {}\n",
    "    for word in wordlist:\n",
    "        count = 0\n",
    "        for text in corpus:\n",
    "            if word in text:\n",
    "                count += 1\n",
    "                continue\n",
    "        result[word] = count\n",
    "    return result\n",
    "\n",
    "document_frequency = get_document_frequencies(stemmed_texts, wordlist)"
   ]
  },
  {
   "cell_type": "code",
   "execution_count": 10,
   "metadata": {
    "ExecuteTime": {
     "end_time": "2023-11-15T02:09:17.304238Z",
     "start_time": "2023-11-15T02:09:16.798186700Z"
    }
   },
   "outputs": [],
   "source": [
    "# obliczamy liczbe wystapien kazdego slowa w kazdym tekscie\n",
    "\n",
    "def get_term_frequencies(corpus, news_indices):\n",
    "    # return {news_id -> {word -> count}}\n",
    "    return {news_id: {word: text.count(word) for word in text} for news_id, text in zip(news_indices, corpus)}\n",
    "\n",
    "term_frequency = get_term_frequencies(stemmed_texts, news_indices)"
   ]
  },
  {
   "cell_type": "code",
   "execution_count": 77,
   "metadata": {
    "ExecuteTime": {
     "end_time": "2023-11-15T03:32:32.356077200Z",
     "start_time": "2023-11-15T03:32:32.318041200Z"
    }
   },
   "outputs": [
    {
     "data": {
      "text/plain": "{'man': 1,\n 'claim': 1,\n 'creat': 1,\n 'car': 9,\n 'might': 1,\n 'solv': 1,\n 'world': 1,\n 'traffic': 5,\n 'congest': 2,\n 'problem': 1,\n 'rick': 10,\n 'woodburi': 1,\n 'spokan': 1,\n 'washington': 1,\n 'usa': 1,\n 'presid': 1,\n 'founder': 1,\n 'sole': 1,\n 'employe': 1,\n 'commut': 2,\n 'carmak': 1,\n 'flagship': 1,\n 'model': 1,\n 'super': 1,\n 'slim': 1,\n 'twoseat': 1,\n 'tango': 2,\n 'highperform': 1,\n 'electr': 1,\n 'preced': 1,\n 'tesla': 1,\n 'told': 1,\n 'btv': 1,\n 'start': 1,\n 'compani': 1,\n 'year': 1,\n 'ago': 1,\n 'base': 1,\n 'idea': 1,\n 'came': 1,\n 'inspir': 2,\n 'shock': 1,\n 'face': 1,\n 'daili': 1,\n 'basi': 1,\n 'use': 1,\n 'drive': 3,\n 'porsch': 1,\n 'bever': 1,\n 'hill': 1,\n 'hermosa': 1,\n 'beach': 1,\n 'everi': 1,\n 'day': 1,\n 'horrend': 1,\n 'explain': 2,\n 'realli': 2,\n 'made': 1,\n 'think': 2,\n 'solut': 2,\n 'fact': 1,\n 'would': 2,\n 'see': 1,\n 'occupi': 1,\n 'lone': 1,\n 'driver': 1,\n 'notic': 1,\n 'everybodi': 2,\n 'around': 1,\n 'singl': 2,\n 'occup': 1,\n 'take': 2,\n 'whole': 1,\n 'lane': 3,\n 'said': 4,\n 'live': 1,\n 'work': 1,\n 'los': 2,\n 'angel': 2,\n 'also': 1,\n 'help': 1,\n 'uniqu': 1,\n 'creation': 1,\n 'thought': 1,\n 'everyon': 1,\n 'want': 1,\n 'get': 2,\n 'point': 3,\n 'b': 1,\n 'effici': 1,\n 'citi': 1,\n 'like': 3,\n 'there': 3,\n 'centr': 1,\n 'hub': 1,\n 'goe': 1,\n 'everywher': 1,\n 'simpl': 1,\n 'reduc': 1,\n 'width': 2,\n 'vehicl': 2,\n 'road': 1,\n 'fit': 1,\n 'comfort': 1,\n 'dont': 1,\n 'answer': 1,\n 'except': 1,\n 'doubl': 1,\n 'capac': 1,\n 'length': 2,\n 'inch': 1,\n 'micro': 1,\n 'park': 2,\n 'anywher': 1,\n 'motorbik': 2,\n 'semitruck': 1,\n 'perpendicular': 1,\n 'curbth': 1,\n 'sell': 1,\n 'inbetween': 1,\n 'better': 1,\n 'coolest': 1,\n 'featur': 1,\n 'faster': 1,\n 'histori': 1,\n 'much': 1,\n 'right': 1,\n 'stop': 1,\n 'line': 1,\n 'light': 1}"
     },
     "execution_count": 77,
     "metadata": {},
     "output_type": "execute_result"
    }
   ],
   "source": [
    "# sprawdzmy wyniki\n",
    "\n",
    "term_frequency[news_ids[42337]]"
   ]
  },
  {
   "cell_type": "code",
   "execution_count": 12,
   "metadata": {
    "ExecuteTime": {
     "end_time": "2023-11-15T02:15:09.996375900Z",
     "start_time": "2023-11-15T02:09:49.177802400Z"
    }
   },
   "outputs": [],
   "source": [
    "# obliczamy metryke tf_idf\n",
    "\n",
    "def calculate_tf_idf(term_frequency, document_frequency, corpus_size):\n",
    "    # return {news_id -> {word -> tf_idf}}\n",
    "    return {news_id: {word: tf * math.log(corpus_size / df) for word, tf in tf_dict.items()} for news_id, tf_dict in term_frequency.items() for word, df in document_frequency.items() if word in tf_dict}\n",
    "\n",
    "tf_idf = calculate_tf_idf(term_frequency, document_frequency, len(news_ids))"
   ]
  },
  {
   "cell_type": "code",
   "execution_count": 78,
   "metadata": {
    "ExecuteTime": {
     "end_time": "2023-11-15T03:32:46.231212300Z",
     "start_time": "2023-11-15T03:32:46.200165100Z"
    }
   },
   "outputs": [
    {
     "data": {
      "text/plain": "{'man': 2.5527969853308514,\n 'claim': 2.5527969853308514,\n 'creat': 2.5527969853308514,\n 'car': 22.975172867977662,\n 'might': 2.5527969853308514,\n 'solv': 2.5527969853308514,\n 'world': 2.5527969853308514,\n 'traffic': 12.763984926654256,\n 'congest': 5.105593970661703,\n 'problem': 2.5527969853308514,\n 'rick': 25.527969853308512,\n 'woodburi': 2.5527969853308514,\n 'spokan': 2.5527969853308514,\n 'washington': 2.5527969853308514,\n 'usa': 2.5527969853308514,\n 'presid': 2.5527969853308514,\n 'founder': 2.5527969853308514,\n 'sole': 2.5527969853308514,\n 'employe': 2.5527969853308514,\n 'commut': 5.105593970661703,\n 'carmak': 2.5527969853308514,\n 'flagship': 2.5527969853308514,\n 'model': 2.5527969853308514,\n 'super': 2.5527969853308514,\n 'slim': 2.5527969853308514,\n 'twoseat': 2.5527969853308514,\n 'tango': 5.105593970661703,\n 'highperform': 2.5527969853308514,\n 'electr': 2.5527969853308514,\n 'preced': 2.5527969853308514,\n 'tesla': 2.5527969853308514,\n 'told': 2.5527969853308514,\n 'btv': 2.5527969853308514,\n 'start': 2.5527969853308514,\n 'compani': 2.5527969853308514,\n 'year': 2.5527969853308514,\n 'ago': 2.5527969853308514,\n 'base': 2.5527969853308514,\n 'idea': 2.5527969853308514,\n 'came': 2.5527969853308514,\n 'inspir': 5.105593970661703,\n 'shock': 2.5527969853308514,\n 'face': 2.5527969853308514,\n 'daili': 2.5527969853308514,\n 'basi': 2.5527969853308514,\n 'use': 2.5527969853308514,\n 'drive': 7.658390955992554,\n 'porsch': 2.5527969853308514,\n 'bever': 2.5527969853308514,\n 'hill': 2.5527969853308514,\n 'hermosa': 2.5527969853308514,\n 'beach': 2.5527969853308514,\n 'everi': 2.5527969853308514,\n 'day': 2.5527969853308514,\n 'horrend': 2.5527969853308514,\n 'explain': 5.105593970661703,\n 'realli': 5.105593970661703,\n 'made': 2.5527969853308514,\n 'think': 5.105593970661703,\n 'solut': 5.105593970661703,\n 'fact': 2.5527969853308514,\n 'would': 5.105593970661703,\n 'see': 2.5527969853308514,\n 'occupi': 2.5527969853308514,\n 'lone': 2.5527969853308514,\n 'driver': 2.5527969853308514,\n 'notic': 2.5527969853308514,\n 'everybodi': 5.105593970661703,\n 'around': 2.5527969853308514,\n 'singl': 5.105593970661703,\n 'occup': 2.5527969853308514,\n 'take': 5.105593970661703,\n 'whole': 2.5527969853308514,\n 'lane': 7.658390955992554,\n 'said': 10.211187941323406,\n 'live': 2.5527969853308514,\n 'work': 2.5527969853308514,\n 'los': 5.105593970661703,\n 'angel': 5.105593970661703,\n 'also': 2.5527969853308514,\n 'help': 2.5527969853308514,\n 'uniqu': 2.5527969853308514,\n 'creation': 2.5527969853308514,\n 'thought': 2.5527969853308514,\n 'everyon': 2.5527969853308514,\n 'want': 2.5527969853308514,\n 'get': 5.105593970661703,\n 'point': 7.658390955992554,\n 'b': 2.5527969853308514,\n 'effici': 2.5527969853308514,\n 'citi': 2.5527969853308514,\n 'like': 7.658390955992554,\n 'there': 7.658390955992554,\n 'centr': 2.5527969853308514,\n 'hub': 2.5527969853308514,\n 'goe': 2.5527969853308514,\n 'everywher': 2.5527969853308514,\n 'simpl': 2.5527969853308514,\n 'reduc': 2.5527969853308514,\n 'width': 5.105593970661703,\n 'vehicl': 5.105593970661703,\n 'road': 2.5527969853308514,\n 'fit': 2.5527969853308514,\n 'comfort': 2.5527969853308514,\n 'dont': 2.5527969853308514,\n 'answer': 2.5527969853308514,\n 'except': 2.5527969853308514,\n 'doubl': 2.5527969853308514,\n 'capac': 2.5527969853308514,\n 'length': 5.105593970661703,\n 'inch': 2.5527969853308514,\n 'micro': 2.5527969853308514,\n 'park': 5.105593970661703,\n 'anywher': 2.5527969853308514,\n 'motorbik': 5.105593970661703,\n 'semitruck': 2.5527969853308514,\n 'perpendicular': 2.5527969853308514,\n 'curbth': 2.5527969853308514,\n 'sell': 2.5527969853308514,\n 'inbetween': 2.5527969853308514,\n 'better': 2.5527969853308514,\n 'coolest': 2.5527969853308514,\n 'featur': 2.5527969853308514,\n 'faster': 2.5527969853308514,\n 'histori': 2.5527969853308514,\n 'much': 2.5527969853308514,\n 'right': 2.5527969853308514,\n 'stop': 2.5527969853308514,\n 'line': 2.5527969853308514,\n 'light': 2.5527969853308514}"
     },
     "execution_count": 78,
     "metadata": {},
     "output_type": "execute_result"
    }
   ],
   "source": [
    "# sprawdzmy wyniki\n",
    "\n",
    "tf_idf[news_ids[42337]]"
   ]
  },
  {
   "cell_type": "markdown",
   "metadata": {},
   "source": [
    "## Część 3. - Podobieństwo tekstów"
   ]
  },
  {
   "cell_type": "code",
   "execution_count": 71,
   "metadata": {
    "ExecuteTime": {
     "end_time": "2023-11-15T02:58:37.706959700Z",
     "start_time": "2023-11-15T02:58:37.675145600Z"
    }
   },
   "outputs": [
    {
     "data": {
      "text/plain": "{'man': 2.5527969853308514,\n 'claim': 2.5527969853308514,\n 'creat': 2.5527969853308514,\n 'car': 22.975172867977662,\n 'might': 2.5527969853308514,\n 'solv': 2.5527969853308514,\n 'world': 2.5527969853308514,\n 'traffic': 12.763984926654256,\n 'congest': 5.105593970661703,\n 'problem': 2.5527969853308514,\n 'rick': 25.527969853308512,\n 'woodburi': 2.5527969853308514,\n 'spokan': 2.5527969853308514,\n 'washington': 2.5527969853308514,\n 'usa': 2.5527969853308514,\n 'presid': 2.5527969853308514,\n 'founder': 2.5527969853308514,\n 'sole': 2.5527969853308514,\n 'employe': 2.5527969853308514,\n 'commut': 5.105593970661703,\n 'carmak': 2.5527969853308514,\n 'flagship': 2.5527969853308514,\n 'model': 2.5527969853308514,\n 'super': 2.5527969853308514,\n 'slim': 2.5527969853308514,\n 'twoseat': 2.5527969853308514,\n 'tango': 5.105593970661703,\n 'highperform': 2.5527969853308514,\n 'electr': 2.5527969853308514,\n 'preced': 2.5527969853308514,\n 'tesla': 2.5527969853308514,\n 'told': 2.5527969853308514,\n 'btv': 2.5527969853308514,\n 'start': 2.5527969853308514,\n 'compani': 2.5527969853308514,\n 'year': 2.5527969853308514,\n 'ago': 2.5527969853308514,\n 'base': 2.5527969853308514,\n 'idea': 2.5527969853308514,\n 'came': 2.5527969853308514,\n 'inspir': 5.105593970661703,\n 'shock': 2.5527969853308514,\n 'face': 2.5527969853308514,\n 'daili': 2.5527969853308514,\n 'basi': 2.5527969853308514,\n 'use': 2.5527969853308514,\n 'drive': 7.658390955992554,\n 'porsch': 2.5527969853308514,\n 'bever': 2.5527969853308514,\n 'hill': 2.5527969853308514,\n 'hermosa': 2.5527969853308514,\n 'beach': 2.5527969853308514,\n 'everi': 2.5527969853308514,\n 'day': 2.5527969853308514,\n 'horrend': 2.5527969853308514,\n 'explain': 5.105593970661703,\n 'realli': 5.105593970661703,\n 'made': 2.5527969853308514,\n 'think': 5.105593970661703,\n 'solut': 5.105593970661703,\n 'fact': 2.5527969853308514,\n 'would': 5.105593970661703,\n 'see': 2.5527969853308514,\n 'occupi': 2.5527969853308514,\n 'lone': 2.5527969853308514,\n 'driver': 2.5527969853308514,\n 'notic': 2.5527969853308514,\n 'everybodi': 5.105593970661703,\n 'around': 2.5527969853308514,\n 'singl': 5.105593970661703,\n 'occup': 2.5527969853308514,\n 'take': 5.105593970661703,\n 'whole': 2.5527969853308514,\n 'lane': 7.658390955992554,\n 'said': 10.211187941323406,\n 'live': 2.5527969853308514,\n 'work': 2.5527969853308514,\n 'los': 5.105593970661703,\n 'angel': 5.105593970661703,\n 'also': 2.5527969853308514,\n 'help': 2.5527969853308514,\n 'uniqu': 2.5527969853308514,\n 'creation': 2.5527969853308514,\n 'thought': 2.5527969853308514,\n 'everyon': 2.5527969853308514,\n 'want': 2.5527969853308514,\n 'get': 5.105593970661703,\n 'point': 7.658390955992554,\n 'b': 2.5527969853308514,\n 'effici': 2.5527969853308514,\n 'citi': 2.5527969853308514,\n 'like': 7.658390955992554,\n 'there': 7.658390955992554,\n 'centr': 2.5527969853308514,\n 'hub': 2.5527969853308514,\n 'goe': 2.5527969853308514,\n 'everywher': 2.5527969853308514,\n 'simpl': 2.5527969853308514,\n 'reduc': 2.5527969853308514,\n 'width': 5.105593970661703,\n 'vehicl': 5.105593970661703,\n 'road': 2.5527969853308514,\n 'fit': 2.5527969853308514,\n 'comfort': 2.5527969853308514,\n 'dont': 2.5527969853308514,\n 'answer': 2.5527969853308514,\n 'except': 2.5527969853308514,\n 'doubl': 2.5527969853308514,\n 'capac': 2.5527969853308514,\n 'length': 5.105593970661703,\n 'inch': 2.5527969853308514,\n 'micro': 2.5527969853308514,\n 'park': 5.105593970661703,\n 'anywher': 2.5527969853308514,\n 'motorbik': 5.105593970661703,\n 'semitruck': 2.5527969853308514,\n 'perpendicular': 2.5527969853308514,\n 'curbth': 2.5527969853308514,\n 'sell': 2.5527969853308514,\n 'inbetween': 2.5527969853308514,\n 'better': 2.5527969853308514,\n 'coolest': 2.5527969853308514,\n 'featur': 2.5527969853308514,\n 'faster': 2.5527969853308514,\n 'histori': 2.5527969853308514,\n 'much': 2.5527969853308514,\n 'right': 2.5527969853308514,\n 'stop': 2.5527969853308514,\n 'line': 2.5527969853308514,\n 'light': 2.5527969853308514}"
     },
     "execution_count": 71,
     "metadata": {},
     "output_type": "execute_result"
    }
   ],
   "source": [
    "# obliczmy odleglosc miedzy dwoma artykulami\n",
    "# przetestuj rozne metryki odleglosci i wybierz najlepsza\n",
    "\n",
    "def calculate_distance(tf_idf, id1, id2, metric='euclidean'):\n",
    "    if id2 not in tf_idf or id1 not in tf_idf:\n",
    "        return 0\n",
    "    if metric == 'euclidean':\n",
    "        return math.sqrt(sum([(tf_idf[id1][word] - tf_idf[id2][word]) ** 2 for word in tf_idf[id1] if word in tf_idf[id2]]))\n",
    "    elif metric == 'cosine':\n",
    "        return sum([tf_idf[id1][word] * tf_idf[id2][word] for word in tf_idf[id1] if word in tf_idf[id2]]) / (math.sqrt(sum([tf_idf[id1][word] ** 2 for word in tf_idf[id1]])) * math.sqrt(sum([tf_idf[id2][word] ** 2 for word in tf_idf[id2]])))\n",
    "calculate_distance(tf_idf, news_ids[42337], 'N10', 'cosine')\n",
    "# calculate_distance(tf_idf, news_ids[42337], 'N10', 'cityblock')\n",
    "# calculate_distance(tf_idf, news_ids[42337], 'N10', 'minkowski')\n",
    "# calculate_distance(tf_idf, news_ids[42337], 'N10', 'euclidean')\n",
    "tf_idf[news_ids[42337]]"
   ]
  },
  {
   "cell_type": "code",
   "execution_count": 76,
   "metadata": {
    "scrolled": true,
    "ExecuteTime": {
     "end_time": "2023-11-15T03:01:40.918965700Z",
     "start_time": "2023-11-15T03:01:40.074076600Z"
    }
   },
   "outputs": [
    {
     "name": "stdout",
     "output_type": "stream",
     "text": [
      "id: N5717, text: Your credit score, a reliable income and how much outstanding debt you owe are critical factors in determining the best mortgage interest rate that you'll be offered. Yet none of it has anything to do with the range of interest rates available. It's a bit more complicated than that. Although the Federal Reserve rate, bond markets, inflation and the demand for homes all play a big part, the stock market also plays a less direct role in...\n",
      "\n",
      "5 most similar:\n",
      "\n",
      "id: N57220, text: The Federal Reserve cut short-term interest rates by a quarter point. It is the third time this year, the Fed has cut rates. WSJ's AnnaMaria Andriotis reports, despite the cut, your credit card rates could go up. Photo Illustration: Adele Morgan, distance: 0.28960008132444265\n",
      "\n",
      "id: N53907, text: The IRS released the federal tax rates and income brackets for 2020. The seven tax rates remain unchanged, while the income limits have been adjusted for inflation., distance: 0.2823912473624527\n",
      "\n",
      "id: N46487, text: It's all about the rate of change, distance: 0.28097574347450827\n",
      "\n",
      "id: N27331, text: Gardner Minshew only has a 69 rating in \"Madden 20,\" but that doesn't seem to bother him as much as his speed rating., distance: 0.2676516895156555\n",
      "\n",
      "id: N4230, text: Interesting..., distance: 0.2649064714130089\n"
     ]
    }
   ],
   "source": [
    "# wyznaczmy k najpodobniejszych tekstow do danego\n",
    "# pamietaj o odpowiedniej kolejnosci sortowania w zaleznosci od wykorzystanej metryki\n",
    "# pamietaj, zeby wsrod podobnych tekstow nie bylo danego\n",
    "\n",
    "def get_k_most_similar_news(tf_idf, n_id, k):\n",
    "    distances = [(calculate_distance(tf_idf, n_id, n_id2, 'cosine'), n_id2) for n_id2 in news_ids if n_id != n_id2]\n",
    "    distances.sort(key=lambda x: x[0], reverse=True)\n",
    "    return [x[1] for x in distances[:k]]\n",
    "\n",
    "def print_k_most_similar_news(tf_idf, n_id, k, corpus, news_indices):\n",
    "    similar = get_k_most_similar_news(tf_idf, n_id, k)\n",
    "    print(f'id: {n_id}, text: {corpus[news_indices[n_id]]}')\n",
    "    print(f'\\n{k} most similar:')\n",
    "    for s_id in similar:\n",
    "        print(f'\\nid: {s_id}, text: {corpus[news_indices[s_id]]}, distance: {calculate_distance(tf_idf, n_id, s_id, \"cosine\")}')\n",
    "\n",
    "print_k_most_similar_news(tf_idf, 'N5717', 5, texts, news_indices)"
   ]
  },
  {
   "cell_type": "code",
   "execution_count": null,
   "outputs": [],
   "source": [],
   "metadata": {
    "collapsed": false
   }
  }
 ],
 "metadata": {
  "kernelspec": {
   "display_name": "Python 3 (ipykernel)",
   "language": "python",
   "name": "python3"
  },
  "language_info": {
   "codemirror_mode": {
    "name": "ipython",
    "version": 3
   },
   "file_extension": ".py",
   "mimetype": "text/x-python",
   "name": "python",
   "nbconvert_exporter": "python",
   "pygments_lexer": "ipython3",
   "version": "3.9.6"
  }
 },
 "nbformat": 4,
 "nbformat_minor": 4
}
