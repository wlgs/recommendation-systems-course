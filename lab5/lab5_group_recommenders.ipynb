{
 "cells": [
  {
   "cell_type": "markdown",
   "metadata": {},
   "source": [
    "# Laboratorium 5 - rekomendacje grupowe\n",
    "\n",
    "## Przygotowanie\n",
    "\n",
    " * pobierz i wypakuj dataset: https://files.grouplens.org/datasets/movielens/ml-latest-small.zip\n",
    "   * więcej możesz poczytać tutaj: https://grouplens.org/datasets/movielens/\n",
    " * [opcjonalnie] Utwórz wirtualne środowisko\n",
    " `python3 -m venv ./recsyslab5`\n",
    " * zainstaluj potrzebne biblioteki:\n",
    " `pip install numpy pandas matplotlib`"
   ]
  },
  {
   "cell_type": "markdown",
   "metadata": {},
   "source": [
    "## Część 1. - przygotowanie danych"
   ]
  },
  {
   "cell_type": "code",
   "execution_count": 6,
   "metadata": {
    "ExecuteTime": {
     "end_time": "2023-11-15T09:19:50.788786600Z",
     "start_time": "2023-11-15T09:19:50.757505500Z"
    }
   },
   "outputs": [],
   "source": [
    "# importujemy wszystkie potrzebne pakiety\n",
    "\n",
    "import math\n",
    "import numpy as np\n",
    "import pandas\n",
    "\n",
    "from random import choice, sample\n",
    "from statistics import mean, stdev\n",
    "\n",
    "from reco_utils import *"
   ]
  },
  {
   "cell_type": "code",
   "execution_count": 7,
   "metadata": {
    "ExecuteTime": {
     "end_time": "2023-11-15T09:20:20.784072200Z",
     "start_time": "2023-11-15T09:19:51.417882500Z"
    }
   },
   "outputs": [
    {
     "name": "stdout",
     "output_type": "stream",
     "text": [
      "Total error: 214288.32789758118\n",
      "Total error: 207430.17864485475\n",
      "Total error: 201069.00142627288\n",
      "Total error: 195152.70220662426\n",
      "Total error: 189635.99298642896\n",
      "Total error: 184479.34764583927\n",
      "Total error: 179648.142071672\n",
      "Total error: 175111.94155736687\n",
      "Total error: 170843.90680859485\n",
      "Total error: 166820.2961550259\n",
      "Total error: 163020.04632158997\n",
      "Total error: 159424.41774867979\n",
      "Total error: 156016.6932559958\n",
      "Total error: 152781.92102644293\n",
      "Total error: 149706.69459622234\n",
      "Total error: 146778.96388693393\n",
      "Total error: 143987.8723883172\n",
      "Total error: 141323.61645865036\n",
      "Total error: 138777.3234009591\n",
      "Total error: 136340.94553293227\n",
      "Total error: 134007.167924363\n",
      "Total error: 131769.32784921097\n",
      "Total error: 129621.34430657266\n",
      "Total error: 127557.65621879078\n",
      "Total error: 125573.16812583574\n",
      "Total error: 123663.20237093135\n",
      "Total error: 121823.45691960417\n",
      "Total error: 120049.9680779967\n",
      "Total error: 118339.07748054342\n",
      "Total error: 116687.40280525906\n",
      "Total error: 115091.81174967671\n",
      "Total error: 113549.3988640699\n",
      "Total error: 112057.46489283464\n",
      "Total error: 110613.49832127868\n",
      "Total error: 109215.15886479118\n",
      "Total error: 107860.26267149167\n",
      "Total error: 106546.76903880884\n",
      "Total error: 105272.7684697553\n",
      "Total error: 104036.47191652335\n",
      "Total error: 102836.20107795163\n",
      "Total error: 101670.37963379433\n",
      "Total error: 100537.52531297327\n",
      "Total error: 99436.24270535605\n",
      "Total error: 98365.21673738287\n",
      "Total error: 97323.20674125994\n",
      "Total error: 96309.04105563911\n",
      "Total error: 95321.6121028796\n",
      "Total error: 94359.87189426392\n",
      "Total error: 93422.82792004787\n",
      "Total error: 92509.53938605556\n",
      "Total error: 91619.11376277625\n",
      "Total error: 90750.70361665936\n",
      "Total error: 89903.50369659095\n",
      "Total error: 89076.74825144278\n",
      "Total error: 88269.70855714723\n",
      "Total error: 87481.69063401512\n",
      "Total error: 86712.03313702639\n",
      "Total error: 85960.10540359314\n",
      "Total error: 85225.30564487899\n",
      "Total error: 84507.05926815514\n",
      "Total error: 83804.81731892152\n",
      "Total error: 83118.05503262779\n",
      "Total error: 82446.27048682123\n",
      "Total error: 81788.98334542639\n",
      "Total error: 81145.73368765303\n",
      "Total error: 80516.08091472936\n",
      "Total error: 79899.6027282929\n",
      "Total error: 79295.89417483329\n",
      "Total error: 78704.56675108972\n",
      "Total error: 78125.24756576559\n",
      "Total error: 77557.5785533234\n",
      "Total error: 77001.21573600725\n",
      "Total error: 76455.82853055515\n",
      "Total error: 75921.09909638221\n",
      "Total error: 75396.72172227183\n",
      "Total error: 74882.40224886974\n",
      "Total error: 74377.85752448914\n",
      "Total error: 73882.814891943\n",
      "Total error: 73397.01170430031\n",
      "Total error: 72920.19486763\n",
      "Total error: 72452.12040894479\n",
      "Total error: 71992.55306770401\n",
      "Total error: 71541.26590934544\n",
      "Total error: 71098.03995944669\n",
      "Total error: 70662.66385721015\n",
      "Total error: 70234.93352706677\n",
      "Total error: 69814.65186727972\n",
      "Total error: 69401.62845451165\n",
      "Total error: 68995.6792633886\n",
      "Total error: 68596.6264001669\n",
      "Total error: 68204.29784966918\n",
      "Total error: 67818.5272347099\n",
      "Total error: 67439.1535872906\n",
      "Total error: 67066.02113088593\n",
      "Total error: 66698.9790731948\n",
      "Total error: 66337.88140876224\n",
      "Total error: 65982.58673092679\n",
      "Total error: 65632.95805257645\n",
      "Total error: 65288.86263523042\n",
      "Total error: 64950.17182599699\n",
      "Total error: 64616.7609019826\n",
      "Total error: 64288.50892175686\n",
      "Total error: 63965.298583499185\n",
      "Total error: 63647.01608947766\n",
      "Total error: 63333.551016533056\n",
      "Total error: 63024.796192254995\n",
      "Total error: 62720.64757656213\n",
      "Total error: 62421.00414841329\n",
      "Total error: 62125.76779738792\n",
      "Total error: 61834.84321989633\n",
      "Total error: 61548.137819788426\n",
      "Total error: 61265.561613146085\n",
      "Total error: 60987.02713705391\n",
      "Total error: 60712.4493621563\n",
      "Total error: 60441.74560881898\n",
      "Total error: 60174.835466722885\n",
      "Total error: 59911.64071772661\n",
      "Total error: 59652.08526184571\n",
      "Total error: 59396.09504620142\n",
      "Total error: 59143.597996801334\n",
      "Total error: 58894.523953022275\n",
      "Total error: 58648.80460467019\n",
      "Total error: 58406.37343150189\n",
      "Total error: 58167.165645093955\n",
      "Total error: 57931.118132958116\n",
      "Total error: 57698.16940479863\n",
      "Total error: 57468.259540818384\n",
      "Total error: 57241.33014198449\n",
      "Total error: 57017.32428216518\n",
      "Total error: 56796.18646205896\n",
      "Total error: 56577.86256483694\n",
      "Total error: 56362.299813425445\n",
      "Total error: 56149.4467293584\n",
      "Total error: 55939.25309313304\n",
      "Total error: 55731.66990600597\n",
      "Total error: 55526.649353167784\n",
      "Total error: 55324.144768239916\n",
      "Total error: 55124.11059903916\n",
      "Total error: 54926.50237455545\n",
      "Total error: 54731.276673096334\n",
      "Total error: 54538.39109154728\n",
      "Total error: 54347.804215705364\n",
      "Total error: 54159.47559164093\n",
      "Total error: 53973.365698047455\n",
      "Total error: 53789.43591953971\n",
      "Total error: 53607.648520861956\n",
      "Total error: 53427.96662197161\n",
      "Total error: 53250.35417396294\n",
      "Total error: 53074.77593579836\n",
      "Total error: 52901.19745181633\n",
      "Total error: 52729.58502998534\n",
      "Total error: 52559.90572087579\n",
      "Total error: 52392.127297321764\n",
      "Total error: 52226.21823474737\n",
      "Total error: 52062.1476921319\n",
      "Total error: 51899.88549358932\n",
      "Total error: 51739.40211054067\n",
      "Total error: 51580.6686444559\n",
      "Total error: 51423.65681014445\n",
      "Total error: 51268.33891957461\n",
      "Total error: 51114.68786620195\n",
      "Total error: 50962.67710978873\n",
      "Total error: 50812.280661696284\n",
      "Total error: 50663.473070632135\n",
      "Total error: 50516.229408838495\n",
      "Total error: 50370.5252587024\n",
      "Total error: 50226.336699776424\n",
      "Total error: 50083.64029619183\n",
      "Total error: 49942.413084453954\n",
      "Total error: 49802.632561603015\n",
      "Total error: 49664.276673729866\n",
      "Total error: 49527.32380483344\n",
      "Total error: 49391.75276600897\n",
      "Total error: 49257.54278495392\n",
      "Total error: 49124.673495782765\n",
      "Total error: 48993.124929138525\n",
      "Total error: 48862.877502591844\n",
      "Total error: 48733.91201131819\n",
      "Total error: 48606.20961904219\n",
      "Total error: 48479.751849242675\n",
      "Total error: 48354.52057660759\n",
      "Total error: 48230.4980187316\n",
      "Total error: 48107.66672804845\n",
      "Total error: 47986.00958398917\n",
      "Total error: 47865.50978536094\n",
      "Total error: 47746.15084293747\n",
      "Total error: 47627.9165722543\n",
      "Total error: 47510.79108660417\n",
      "Total error: 47394.7587902233\n",
      "Total error: 47279.80437166528\n",
      "Total error: 47165.9127973543\n",
      "Total error: 47053.069305313664\n",
      "Total error: 46941.25939906293\n",
      "Total error: 46830.46884167975\n",
      "Total error: 46720.68365001892\n",
      "Total error: 46611.890089087196\n",
      "Total error: 46504.07466656568\n",
      "Total error: 46397.224127477144\n",
      "Total error: 46291.32544899345\n",
      "Total error: 46186.36583537892\n",
      "Total error: 46082.33271306477\n",
      "Total error: 45979.21372585178\n",
      "Total error: 45876.996730236395\n",
      "Total error: 45775.669790857006\n",
      "Total error: 45675.22117605713\n",
      "Total error: 45575.63935356092\n"
     ]
    },
    {
     "data": {
      "text/plain": "     1       2       3       4       5       6       7       8       9       \\\n1         6       7       6       9       5       7       7       8       4   \n2         5       0       8       8       7       1       7       8      10   \n3         6       6       6       4       8       3       4       0      10   \n4         5       6       6       7       4       8       7       7       9   \n5        10       8       3       9       0      10       3      10      10   \n..      ...     ...     ...     ...     ...     ...     ...     ...     ...   \n606       6       6       6       6       6       6       6       6       6   \n607       7      10       3       5      10       8       3       8       9   \n608       6       6       5       7       6       7       6       6       7   \n609       2       3       9      10       6       5      10       3       9   \n610       6       6       6       6       6       6       6       6       6   \n\n     10      ...  193565  193567  193571  193573  193579  193581  193583  \\\n1         6  ...       5       6       6       9       6       7       6   \n2        10  ...       3       1       8       0      10       1      10   \n3         4  ...      10       3       4      10       6      10       9   \n4        10  ...       9       8       5       9      10      10       8   \n5         8  ...       3      10      10      10       3       3       8   \n..      ...  ...     ...     ...     ...     ...     ...     ...     ...   \n606       6  ...       6       6       6       6       6       6       6   \n607       5  ...       8       5       5       5       3       5       2   \n608       6  ...       6       6       7       6       6       6       6   \n609       7  ...      10       1      10       9      10       5      10   \n610       6  ...       6       6       6       5       6       6       6   \n\n     193585  193587  193609  \n1         7       5       4  \n2         0       6      10  \n3         4       5       3  \n4         6       5       9  \n5        10       2       0  \n..      ...     ...     ...  \n606       5       6       6  \n607       8       1       0  \n608       6       6       5  \n609       3      10      10  \n610       6       6       5  \n\n[610 rows x 9724 columns]",
      "text/html": "<div>\n<style scoped>\n    .dataframe tbody tr th:only-of-type {\n        vertical-align: middle;\n    }\n\n    .dataframe tbody tr th {\n        vertical-align: top;\n    }\n\n    .dataframe thead th {\n        text-align: right;\n    }\n</style>\n<table border=\"1\" class=\"dataframe\">\n  <thead>\n    <tr style=\"text-align: right;\">\n      <th></th>\n      <th>1</th>\n      <th>2</th>\n      <th>3</th>\n      <th>4</th>\n      <th>5</th>\n      <th>6</th>\n      <th>7</th>\n      <th>8</th>\n      <th>9</th>\n      <th>10</th>\n      <th>...</th>\n      <th>193565</th>\n      <th>193567</th>\n      <th>193571</th>\n      <th>193573</th>\n      <th>193579</th>\n      <th>193581</th>\n      <th>193583</th>\n      <th>193585</th>\n      <th>193587</th>\n      <th>193609</th>\n    </tr>\n  </thead>\n  <tbody>\n    <tr>\n      <th>1</th>\n      <td>6</td>\n      <td>7</td>\n      <td>6</td>\n      <td>9</td>\n      <td>5</td>\n      <td>7</td>\n      <td>7</td>\n      <td>8</td>\n      <td>4</td>\n      <td>6</td>\n      <td>...</td>\n      <td>5</td>\n      <td>6</td>\n      <td>6</td>\n      <td>9</td>\n      <td>6</td>\n      <td>7</td>\n      <td>6</td>\n      <td>7</td>\n      <td>5</td>\n      <td>4</td>\n    </tr>\n    <tr>\n      <th>2</th>\n      <td>5</td>\n      <td>0</td>\n      <td>8</td>\n      <td>8</td>\n      <td>7</td>\n      <td>1</td>\n      <td>7</td>\n      <td>8</td>\n      <td>10</td>\n      <td>10</td>\n      <td>...</td>\n      <td>3</td>\n      <td>1</td>\n      <td>8</td>\n      <td>0</td>\n      <td>10</td>\n      <td>1</td>\n      <td>10</td>\n      <td>0</td>\n      <td>6</td>\n      <td>10</td>\n    </tr>\n    <tr>\n      <th>3</th>\n      <td>6</td>\n      <td>6</td>\n      <td>6</td>\n      <td>4</td>\n      <td>8</td>\n      <td>3</td>\n      <td>4</td>\n      <td>0</td>\n      <td>10</td>\n      <td>4</td>\n      <td>...</td>\n      <td>10</td>\n      <td>3</td>\n      <td>4</td>\n      <td>10</td>\n      <td>6</td>\n      <td>10</td>\n      <td>9</td>\n      <td>4</td>\n      <td>5</td>\n      <td>3</td>\n    </tr>\n    <tr>\n      <th>4</th>\n      <td>5</td>\n      <td>6</td>\n      <td>6</td>\n      <td>7</td>\n      <td>4</td>\n      <td>8</td>\n      <td>7</td>\n      <td>7</td>\n      <td>9</td>\n      <td>10</td>\n      <td>...</td>\n      <td>9</td>\n      <td>8</td>\n      <td>5</td>\n      <td>9</td>\n      <td>10</td>\n      <td>10</td>\n      <td>8</td>\n      <td>6</td>\n      <td>5</td>\n      <td>9</td>\n    </tr>\n    <tr>\n      <th>5</th>\n      <td>10</td>\n      <td>8</td>\n      <td>3</td>\n      <td>9</td>\n      <td>0</td>\n      <td>10</td>\n      <td>3</td>\n      <td>10</td>\n      <td>10</td>\n      <td>8</td>\n      <td>...</td>\n      <td>3</td>\n      <td>10</td>\n      <td>10</td>\n      <td>10</td>\n      <td>3</td>\n      <td>3</td>\n      <td>8</td>\n      <td>10</td>\n      <td>2</td>\n      <td>0</td>\n    </tr>\n    <tr>\n      <th>...</th>\n      <td>...</td>\n      <td>...</td>\n      <td>...</td>\n      <td>...</td>\n      <td>...</td>\n      <td>...</td>\n      <td>...</td>\n      <td>...</td>\n      <td>...</td>\n      <td>...</td>\n      <td>...</td>\n      <td>...</td>\n      <td>...</td>\n      <td>...</td>\n      <td>...</td>\n      <td>...</td>\n      <td>...</td>\n      <td>...</td>\n      <td>...</td>\n      <td>...</td>\n      <td>...</td>\n    </tr>\n    <tr>\n      <th>606</th>\n      <td>6</td>\n      <td>6</td>\n      <td>6</td>\n      <td>6</td>\n      <td>6</td>\n      <td>6</td>\n      <td>6</td>\n      <td>6</td>\n      <td>6</td>\n      <td>6</td>\n      <td>...</td>\n      <td>6</td>\n      <td>6</td>\n      <td>6</td>\n      <td>6</td>\n      <td>6</td>\n      <td>6</td>\n      <td>6</td>\n      <td>5</td>\n      <td>6</td>\n      <td>6</td>\n    </tr>\n    <tr>\n      <th>607</th>\n      <td>7</td>\n      <td>10</td>\n      <td>3</td>\n      <td>5</td>\n      <td>10</td>\n      <td>8</td>\n      <td>3</td>\n      <td>8</td>\n      <td>9</td>\n      <td>5</td>\n      <td>...</td>\n      <td>8</td>\n      <td>5</td>\n      <td>5</td>\n      <td>5</td>\n      <td>3</td>\n      <td>5</td>\n      <td>2</td>\n      <td>8</td>\n      <td>1</td>\n      <td>0</td>\n    </tr>\n    <tr>\n      <th>608</th>\n      <td>6</td>\n      <td>6</td>\n      <td>5</td>\n      <td>7</td>\n      <td>6</td>\n      <td>7</td>\n      <td>6</td>\n      <td>6</td>\n      <td>7</td>\n      <td>6</td>\n      <td>...</td>\n      <td>6</td>\n      <td>6</td>\n      <td>7</td>\n      <td>6</td>\n      <td>6</td>\n      <td>6</td>\n      <td>6</td>\n      <td>6</td>\n      <td>6</td>\n      <td>5</td>\n    </tr>\n    <tr>\n      <th>609</th>\n      <td>2</td>\n      <td>3</td>\n      <td>9</td>\n      <td>10</td>\n      <td>6</td>\n      <td>5</td>\n      <td>10</td>\n      <td>3</td>\n      <td>9</td>\n      <td>7</td>\n      <td>...</td>\n      <td>10</td>\n      <td>1</td>\n      <td>10</td>\n      <td>9</td>\n      <td>10</td>\n      <td>5</td>\n      <td>10</td>\n      <td>3</td>\n      <td>10</td>\n      <td>10</td>\n    </tr>\n    <tr>\n      <th>610</th>\n      <td>6</td>\n      <td>6</td>\n      <td>6</td>\n      <td>6</td>\n      <td>6</td>\n      <td>6</td>\n      <td>6</td>\n      <td>6</td>\n      <td>6</td>\n      <td>6</td>\n      <td>...</td>\n      <td>6</td>\n      <td>6</td>\n      <td>6</td>\n      <td>5</td>\n      <td>6</td>\n      <td>6</td>\n      <td>6</td>\n      <td>6</td>\n      <td>6</td>\n      <td>5</td>\n    </tr>\n  </tbody>\n</table>\n<p>610 rows × 9724 columns</p>\n</div>"
     },
     "execution_count": 7,
     "metadata": {},
     "output_type": "execute_result"
    }
   ],
   "source": [
    "# wczytujemy oceny uytkownikow i obliczamy (za pomocą collaborative filtering) wszystkie przewidywane oceny filmow\n",
    "\n",
    "raw_ratings = pandas.read_csv('ml-latest-small/ratings.csv').drop(columns=['timestamp'])\n",
    "movies = list(raw_ratings['movieId'].unique())\n",
    "users = list(raw_ratings['userId'].unique())\n",
    "ratings = get_predicted_ratings(raw_ratings)\n",
    "ratings"
   ]
  },
  {
   "cell_type": "code",
   "execution_count": 8,
   "metadata": {
    "ExecuteTime": {
     "end_time": "2023-11-15T09:20:46.397024100Z",
     "start_time": "2023-11-15T09:20:46.354482600Z"
    }
   },
   "outputs": [
    {
     "data": {
      "text/plain": "                                             title  \\\nmovieId                                              \n1                                 Toy Story (1995)   \n2                                   Jumanji (1995)   \n3                          Grumpier Old Men (1995)   \n4                         Waiting to Exhale (1995)   \n5               Father of the Bride Part II (1995)   \n...                                            ...   \n193581   Black Butler: Book of the Atlantic (2017)   \n193583                No Game No Life: Zero (2017)   \n193585                                Flint (2017)   \n193587         Bungo Stray Dogs: Dead Apple (2018)   \n193609         Andrew Dice Clay: Dice Rules (1991)   \n\n                                              genres  \nmovieId                                               \n1        Adventure|Animation|Children|Comedy|Fantasy  \n2                         Adventure|Children|Fantasy  \n3                                     Comedy|Romance  \n4                               Comedy|Drama|Romance  \n5                                             Comedy  \n...                                              ...  \n193581               Action|Animation|Comedy|Fantasy  \n193583                      Animation|Comedy|Fantasy  \n193585                                         Drama  \n193587                              Action|Animation  \n193609                                        Comedy  \n\n[9742 rows x 2 columns]",
      "text/html": "<div>\n<style scoped>\n    .dataframe tbody tr th:only-of-type {\n        vertical-align: middle;\n    }\n\n    .dataframe tbody tr th {\n        vertical-align: top;\n    }\n\n    .dataframe thead th {\n        text-align: right;\n    }\n</style>\n<table border=\"1\" class=\"dataframe\">\n  <thead>\n    <tr style=\"text-align: right;\">\n      <th></th>\n      <th>title</th>\n      <th>genres</th>\n    </tr>\n    <tr>\n      <th>movieId</th>\n      <th></th>\n      <th></th>\n    </tr>\n  </thead>\n  <tbody>\n    <tr>\n      <th>1</th>\n      <td>Toy Story (1995)</td>\n      <td>Adventure|Animation|Children|Comedy|Fantasy</td>\n    </tr>\n    <tr>\n      <th>2</th>\n      <td>Jumanji (1995)</td>\n      <td>Adventure|Children|Fantasy</td>\n    </tr>\n    <tr>\n      <th>3</th>\n      <td>Grumpier Old Men (1995)</td>\n      <td>Comedy|Romance</td>\n    </tr>\n    <tr>\n      <th>4</th>\n      <td>Waiting to Exhale (1995)</td>\n      <td>Comedy|Drama|Romance</td>\n    </tr>\n    <tr>\n      <th>5</th>\n      <td>Father of the Bride Part II (1995)</td>\n      <td>Comedy</td>\n    </tr>\n    <tr>\n      <th>...</th>\n      <td>...</td>\n      <td>...</td>\n    </tr>\n    <tr>\n      <th>193581</th>\n      <td>Black Butler: Book of the Atlantic (2017)</td>\n      <td>Action|Animation|Comedy|Fantasy</td>\n    </tr>\n    <tr>\n      <th>193583</th>\n      <td>No Game No Life: Zero (2017)</td>\n      <td>Animation|Comedy|Fantasy</td>\n    </tr>\n    <tr>\n      <th>193585</th>\n      <td>Flint (2017)</td>\n      <td>Drama</td>\n    </tr>\n    <tr>\n      <th>193587</th>\n      <td>Bungo Stray Dogs: Dead Apple (2018)</td>\n      <td>Action|Animation</td>\n    </tr>\n    <tr>\n      <th>193609</th>\n      <td>Andrew Dice Clay: Dice Rules (1991)</td>\n      <td>Comedy</td>\n    </tr>\n  </tbody>\n</table>\n<p>9742 rows × 2 columns</p>\n</div>"
     },
     "execution_count": 8,
     "metadata": {},
     "output_type": "execute_result"
    }
   ],
   "source": [
    "# wczytujemy nazwy filmow i kategorie\n",
    "\n",
    "movies_metadata = pandas.read_csv('ml-latest-small/movies.csv').set_index('movieId')\n",
    "movies_metadata"
   ]
  },
  {
   "cell_type": "code",
   "execution_count": 9,
   "metadata": {
    "ExecuteTime": {
     "end_time": "2023-11-15T09:20:47.163493500Z",
     "start_time": "2023-11-15T09:20:47.134539200Z"
    }
   },
   "outputs": [
    {
     "data": {
      "text/plain": "[[111, 307, 474, 599, 414],\n [469, 182, 232, 448, 600],\n [508, 581, 497, 402, 566],\n [300, 515, 245, 568, 507],\n [2, 371, 252, 518, 37],\n [269, 360, 469, 287, 308],\n [243, 527, 418, 118, 370],\n [186, 559, 327, 553, 314]]"
     },
     "execution_count": 9,
     "metadata": {},
     "output_type": "execute_result"
    }
   ],
   "source": [
    "# wczytujemy przykladowe grupy uzytkownikow\n",
    "groups = pandas.read_csv('groups.csv').values.tolist()\n",
    "groups"
   ]
  },
  {
   "cell_type": "code",
   "execution_count": 11,
   "metadata": {
    "ExecuteTime": {
     "end_time": "2023-11-15T09:23:04.591769700Z",
     "start_time": "2023-11-15T09:23:04.513718Z"
    }
   },
   "outputs": [
    {
     "name": "stdout",
     "output_type": "stream",
     "text": [
      "\n",
      "\n",
      "User ids: [186, 559, 327, 553, 314]\n",
      "\n",
      "Mean ratings deviation: 3.0869469363309743\n",
      "Median ratings deviation: 3.1304951684997055\n",
      "Standard deviation of ratings deviation: 0.8971171414374459\n",
      "\n",
      "Best movies:\n",
      "Far from Heaven (2002), 9.4*\n",
      "Ethan Frome (1993), 9.2*\n",
      "Me Myself I (2000), 9.2*\n",
      "Piranha (Piranha 3D) (2010), 9.0*\n",
      "Game 6 (2005), 9.0*\n",
      "Crimson Rivers 2: Angels of the Apocalypse (Rivières pourpres II - Les anges de l'apocalypse, Les) (2004), 9.0*\n",
      "Neon Bull (2015), 9.0*\n",
      "Gangster No. 1 (2000), 9.0*\n",
      "Ring of Terror (1962), 9.0*\n",
      "Goodbye Girl, The (1977), 8.8*\n",
      "\n",
      "Worst movies:\n",
      "I Served the King of England (Obsluhoval jsem anglického krále) (2006), 2.2*\n",
      "Sliding Doors (1998), 2.2*\n",
      "Point of No Return (1993), 2.2*\n",
      "Sorrow (2015), 2.4*\n",
      "On the Town (1949), 2.4*\n",
      "Death Wish 5: The Face of Death (1994), 2.4*\n",
      "Storks (2016), 2.4*\n",
      "Bittersweet Life, A (Dalkomhan insaeng) (2005), 2.4*\n",
      "Ladybird Ladybird (1994), 2.4*\n",
      "Josie and the Pussycats (2001), 2.4*\n"
     ]
    }
   ],
   "source": [
    "# przygotowujemy funkcje pomocnicza\n",
    "\n",
    "def describe_group(group, N=10):\n",
    "    print(f'\\n\\nUser ids: {group}')\n",
    "    group_size = len(group)\n",
    "    \n",
    "    mean_stdev = ratings.loc[group].std(axis=0).mean()\n",
    "    median_stdev = ratings.loc[group].std(axis=0).median()\n",
    "    std_stdev = ratings.loc[group].std(axis=0).std()\n",
    "    print(f'\\nMean ratings deviation: {mean_stdev}')\n",
    "    print(f'Median ratings deviation: {median_stdev}')\n",
    "    print(f'Standard deviation of ratings deviation: {std_stdev}')\n",
    "    \n",
    "    average_scores = ratings.iloc[group].mean(axis=0)\n",
    "    average_scores = average_scores.sort_values()\n",
    "    best_movies = [(movies_metadata['title'][movie_id], average_scores[movie_id]) for movie_id in list(average_scores[-N:].index)]\n",
    "    worst_movies = [(movies_metadata['title'][movie_id], average_scores[movie_id]) for movie_id in list(average_scores[:N].index)]\n",
    "    \n",
    "    print('\\nBest movies:')\n",
    "    for movie, score in best_movies[::-1]:\n",
    "        print(f'{movie}, {score}*')\n",
    "    print('\\nWorst movies:')\n",
    "    for movie, score in worst_movies:\n",
    "        print(f'{movie}, {score}*')\n",
    "\n",
    "describe_group(groups[7])"
   ]
  },
  {
   "cell_type": "markdown",
   "metadata": {},
   "source": [
    "## Część 2. - algorytmy proste"
   ]
  },
  {
   "cell_type": "code",
   "execution_count": 12,
   "metadata": {
    "ExecuteTime": {
     "end_time": "2023-11-15T09:24:34.192147300Z",
     "start_time": "2023-11-15T09:24:34.165225Z"
    }
   },
   "outputs": [],
   "source": [
    "# zdefiniujmy interfejs dla wszystkich algorytmow rekomendacyjnych\n",
    "\n",
    "class Recommender:\n",
    "    def recommend(self, movies, ratings, group, size):\n",
    "        pass\n",
    "\n",
    "\n",
    "# jako pierwszy zaimplementujemy algorytm losowy - dla porownania\n",
    "    \n",
    "class RandomRecommender(Recommender):\n",
    "    def __init__(self):\n",
    "        self.name = 'random'\n",
    "        \n",
    "    def recommend(self, movies, ratings, group, size):\n",
    "        return sample(movies, size)"
   ]
  },
  {
   "cell_type": "code",
   "execution_count": 13,
   "metadata": {
    "ExecuteTime": {
     "end_time": "2023-11-15T09:24:54.238513800Z",
     "start_time": "2023-11-15T09:24:54.191189900Z"
    }
   },
   "outputs": [],
   "source": [
    "# algorytm rekomendujacy filmy o najwyzszej sredniej ocen\n",
    "\n",
    "class AverageRecommender(Recommender):\n",
    "    def __init__(self):\n",
    "        self.name = 'average'\n",
    "    \n",
    "    def recommend(self, movies, ratings, group, size):\n",
    "        return list(ratings.iloc[group].mean(axis=0).sort_values(ascending=False).index[:size])"
   ]
  },
  {
   "cell_type": "code",
   "execution_count": 14,
   "metadata": {
    "ExecuteTime": {
     "end_time": "2023-11-15T09:25:11.073457900Z",
     "start_time": "2023-11-15T09:25:11.041741800Z"
    }
   },
   "outputs": [],
   "source": [
    "# algorytm rekomendujacy filmy o najwyzszej sredniej ocen,\n",
    "#   ale rownoczesnie wykluczajacy te filmy, ktore otrzymaly choc jedna ocene ponizej thresholdu\n",
    "\n",
    "class AverageWithoutMiseryRecommender(Recommender):\n",
    "    def __init__(self, score_threshold):\n",
    "        self.name = 'average_without_misery'\n",
    "        self.score_threshold = score_threshold\n",
    "        \n",
    "    def recommend(self, movies, ratings, group, size):\n",
    "        return list(ratings.iloc[group].mean(axis=0).sort_values(ascending=False)[ratings.iloc[group].min(axis=0) >= self.score_threshold].index[:size])"
   ]
  },
  {
   "cell_type": "code",
   "execution_count": null,
   "metadata": {},
   "outputs": [],
   "source": [
    "# algorytm uwzgledniajacy preferencje tylko jednego uzytkownika w kazdej iteracji\n",
    "\n",
    "class FairnessRecommender(Recommender):\n",
    "    def __init__(self):\n",
    "        self.name = 'fairness'\n",
    "        \n",
    "    def recommend(self, movies, ratings, group, size):\n",
    "        return list(ratings.iloc[choice(group)].sort_values(ascending=False).index[:size]) # check me after todo"
   ]
  },
  {
   "cell_type": "code",
   "execution_count": null,
   "metadata": {},
   "outputs": [],
   "source": [
    "# wybrany algorytm wyborczy (dyktatura, glosowanie proste, Borda, Copeland)\n",
    "\n",
    "class VotingRecommender(Recommender):\n",
    "    def __init__(self):\n",
    "        self.name = 'voting'\n",
    "    \n",
    "    def recommend(self, movies, ratings, group, size):\n",
    "        raise NotImplementedError()"
   ]
  },
  {
   "cell_type": "code",
   "execution_count": null,
   "metadata": {},
   "outputs": [],
   "source": [
    "# algorytm zachlanny, aproksymujacy metode Proportional Approval Voting\n",
    "#   w kazdej iteracji wybieramy ten film, ktory najbardziej zwieksza zadowolenie zgodnie z punktacja PAV\n",
    "\n",
    "class ProportionalApprovalVotingRecommender(Recommender):\n",
    "    def __init__(self, threshold):\n",
    "        self.threshold = threshold\n",
    "        self.name = 'PAV'\n",
    "        \n",
    "    def recommend(self, movies, ratings, group, size):\n",
    "        raise NotImplementedError()"
   ]
  },
  {
   "cell_type": "markdown",
   "metadata": {},
   "source": [
    "## Część 3. - funkcje celu"
   ]
  },
  {
   "cell_type": "code",
   "execution_count": null,
   "metadata": {},
   "outputs": [],
   "source": [
    "# dwie funkcje pomocnicze:\n",
    "#  - znajdujaca ulubione filmy danego uzytkownika\n",
    "#  - obliczajaca sume ocen wystawionych przez uzytkownika wszystkim filmom w rekomendacji\n",
    "\n",
    "def top_n_movies_for_user(ratings, movies, user_id, n):\n",
    "    raise NotImplementedError()\n",
    "\n",
    "def total_score(recommendation, user_id, ratings):\n",
    "    raise NotImplementedError()"
   ]
  },
  {
   "cell_type": "code",
   "execution_count": null,
   "metadata": {},
   "outputs": [],
   "source": [
    "# funkcja obliczajaca zadowolenie pojedynczego uzytkownika\n",
    "#  - iloraz zadowolenia z wygenerowanej rekomendacji oraz zadowolenia z hipotetycznej rekomendacji idealnej\n",
    "def overall_user_satisfaction(recommendation, user_id, movies, ratings):\n",
    "    raise NotImplementedError()\n",
    "\n",
    "# funkcja celu - srednia z zadowolenia wszystkich uzytkownikow w grupie\n",
    "def overall_group_satisfaction(recommendation, group, movies, ratings):\n",
    "    raise NotImplementedError()\n",
    "\n",
    "# funkcja celu - roznica miedzy maksymalnym i minimalnym zadowolenie w grupie\n",
    "def group_disagreement(recommendation, group, movies, ratings):\n",
    "    raise NotImplementedError()"
   ]
  },
  {
   "cell_type": "markdown",
   "metadata": {},
   "source": [
    "## Część 4. - Sequential Hybrid Aggregation"
   ]
  },
  {
   "cell_type": "code",
   "execution_count": null,
   "metadata": {},
   "outputs": [],
   "source": [
    "# algorytm balansujacy pomiedzy wyborem elementow o najwyzszej sredniej ocen\n",
    "#   i o najwyzszej minimalnej ocenie\n",
    "#   wyliczajacy w kazdej iteracji parametr alfa - jak na wykladzie\n",
    "class SequentialHybridAggregationRecommender(Recommender):\n",
    "     def __init__(self):\n",
    "        self.name = 'sequential_hybrid_aggregation'\n",
    "    \n",
    "    def recommend(self, movies, ratings, group, size):\n",
    "        raise NotImplementedError()"
   ]
  },
  {
   "cell_type": "markdown",
   "metadata": {},
   "source": [
    "## Część 5. - porównanie algorytmów"
   ]
  },
  {
   "cell_type": "code",
   "execution_count": null,
   "metadata": {
    "scrolled": true
   },
   "outputs": [],
   "source": [
    "recommenders = [\n",
    "    RandomRecommender(),\n",
    "    AverageRecommender(),\n",
    "    AverageWithoutMiseryRecommender(5),\n",
    "    FairnessRecommender(),\n",
    "    VotingRecommender(),\n",
    "    ProportionalApprovalVotingRecommender(5),\n",
    "    SequentialHybridAggregationRecommender()\n",
    "]\n",
    "\n",
    "recommendation_size = 10\n",
    "\n",
    "# dla kazdego algorytmu:\n",
    "#  - wygenerujmy jedna rekomendacje dla kazdej grupy\n",
    "#  - obliczmy wartosci obu funkcji celu dla kazdej rekomendacji\n",
    "#  - obliczmy srednia i odchylenie standardowe dla obu funkcji celu\n",
    "#  - wypiszmy wyniki na konsole\n",
    "\n",
    "for recommender in recommenders:\n",
    "    raise NotImplementedError()"
   ]
  }
 ],
 "metadata": {
  "kernelspec": {
   "display_name": "Python 3 (ipykernel)",
   "language": "python",
   "name": "python3"
  },
  "language_info": {
   "codemirror_mode": {
    "name": "ipython",
    "version": 3
   },
   "file_extension": ".py",
   "mimetype": "text/x-python",
   "name": "python",
   "nbconvert_exporter": "python",
   "pygments_lexer": "ipython3",
   "version": "3.9.6"
  }
 },
 "nbformat": 4,
 "nbformat_minor": 4
}
