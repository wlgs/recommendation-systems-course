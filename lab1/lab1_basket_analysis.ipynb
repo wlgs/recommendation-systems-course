{
 "cells": [
  {
   "cell_type": "markdown",
   "metadata": {},
   "source": [
    "# Laboratorium 1 - analiza koszykowa\n",
    "\n",
    "## Przygotowanie\n",
    "\n",
    " * pobierz i wypakuj dataset: https://kaggle.com/datasets/rashikrahmanpritom/groceries-dataset-for-market-basket-analysismba?resource=download&select=basket.csv\n",
    "   * alternatywnie, pobierz plik `basket.csv` z Teamsów\n",
    " * [opcjonalnie] Utwórz wirtualne środowisko\n",
    " `python3 -m venv ./recsyslab1`\n",
    " * zainstaluj potrzebne biblioteki:\n",
    " `pip install more-itertools`"
   ]
  },
  {
   "cell_type": "markdown",
   "metadata": {},
   "source": [
    "## Część 1. - przygotowanie danych"
   ]
  },
  {
   "cell_type": "code",
   "execution_count": 28,
   "metadata": {
    "ExecuteTime": {
     "end_time": "2023-10-18T08:21:24.205505500Z",
     "start_time": "2023-10-18T08:21:24.181006200Z"
    }
   },
   "outputs": [],
   "source": [
    "# importujemy wszystkie potrzebne pakiety\n",
    "\n",
    "from more_itertools import powerset"
   ]
  },
  {
   "cell_type": "code",
   "execution_count": 29,
   "metadata": {
    "ExecuteTime": {
     "end_time": "2023-10-18T08:21:28.980830Z",
     "start_time": "2023-10-18T08:21:28.956824100Z"
    }
   },
   "outputs": [],
   "source": [
    "# definiujemy stale\n",
    "\n",
    "PATH = './basket.csv'\n",
    "EPSILON = 0.0001"
   ]
  },
  {
   "cell_type": "code",
   "execution_count": 30,
   "metadata": {
    "ExecuteTime": {
     "end_time": "2023-10-18T08:21:31.687878500Z",
     "start_time": "2023-10-18T08:21:31.541539300Z"
    }
   },
   "outputs": [
    {
     "data": {
      "text/plain": "[{'pastry', 'salty snack', 'whole milk'},\n {'sausage', 'semi-finished bread', 'whole milk', 'yogurt'},\n {'pickled vegetables', 'soda'},\n {'canned beer', 'misc. beverages'},\n {'hygiene articles', 'sausage'},\n {'rolls/buns', 'sausage', 'whole milk'},\n {'soda', 'whole milk'},\n {'frankfurter', 'soda', 'whipped/sour cream'},\n {'curd', 'frankfurter'},\n {'beef', 'white bread'},\n {'butter', 'whole milk'},\n {'frozen vegetables', 'other vegetables'},\n {'sugar', 'tropical fruit'},\n {'butter milk', 'specialty chocolate'},\n {'dental care', 'frozen meals'},\n {'rolls/buns'},\n {'detergent', 'root vegetables'},\n {'rolls/buns', 'sausage'},\n {'cling film/bags', 'dish cleaner'},\n {'canned beer', 'frozen fish'},\n {'pip fruit', 'tropical fruit', 'whole milk'},\n {'pastry', 'root vegetables', 'whole milk'},\n {'chocolate', 'red/blush wine', 'rolls/buns'},\n {'other vegetables', 'shopping bags'},\n {'chocolate', 'packaged fruit/vegetables', 'rolls/buns', 'whole milk'},\n {'hygiene articles', 'other vegetables'},\n {'margarine', 'whipped/sour cream'},\n {'rolls/buns'},\n {'bottled water', 'rolls/buns', 'softener'},\n {'rice', 'whole milk'},\n {'shopping bags', 'skin care'},\n {'bottled beer',\n  'chicken',\n  'chocolate',\n  'flour',\n  'frankfurter',\n  'rolls/buns',\n  'whole milk'},\n {'dessert', 'hamburger meat', 'liquor (appetizer)', 'liver loaf'},\n {'domestic eggs',\n  'photo/film',\n  'root vegetables',\n  'soda',\n  'tropical fruit',\n  'white wine',\n  'yogurt'},\n {'canned fish', 'cocoa drinks'},\n {'herbs', 'newspapers', 'yogurt'},\n {'tropical fruit', 'yogurt'},\n {'ketchup', 'pastry'},\n {'coffee', 'pip fruit', 'uht-milk'},\n {'bottled water', 'specialty bar'},\n {'bottled water', 'frankfurter'},\n {'kitchen towels', 'sliced cheese'},\n {'candles', 'pip fruit', 'rolls/buns'},\n {'curd cheese', 'pastry'},\n {'bottled water', 'candy', 'citrus fruit', 'rolls/buns'},\n {'candles',\n  'frankfurter',\n  'grapes',\n  'herbs',\n  'other vegetables',\n  'whole milk',\n  'yogurt'},\n {'brown bread', 'frozen vegetables'},\n {'frankfurter', 'yogurt'},\n {'processed cheese', 'whole milk'},\n {'onions',\n  'rolls/buns',\n  'root vegetables',\n  'shopping bags',\n  'tropical fruit'},\n {'bottled water', 'hard cheese', 'napkins'},\n {'candy', 'whole milk'},\n {'frozen vegetables', 'tropical fruit'},\n {'mustard', 'whipped/sour cream'},\n {'mustard', 'other vegetables'},\n {'mayonnaise', 'root vegetables'},\n {'frozen meals', 'whole milk'},\n {'domestic eggs', 'meat', 'roll products ', 'white bread'},\n {'butter milk', 'hamburger meat'},\n {'rolls/buns', 'whole milk'},\n {'bottled beer', 'sausage', 'whole milk', 'yogurt'},\n {'canned beer', 'cookware'},\n {'chocolate', 'fruit/vegetable juice', 'rolls/buns'},\n {'beef', 'salty snack'},\n {'citrus fruit', 'whole milk'},\n {'pip fruit', 'soft cheese'},\n {'bottled beer', 'uht-milk'},\n {'chicken', 'red/blush wine'},\n {'frankfurter', 'mayonnaise', 'oil', 'pip fruit', 'rolls/buns'},\n {'other vegetables', 'root vegetables'},\n {'beef', 'yogurt'},\n {'brown bread', 'pet care'},\n {'other vegetables', 'rolls/buns'},\n {'dessert', 'shopping bags', 'soda'},\n {'curd', 'long life bakery product'},\n {'beverages', 'domestic eggs'},\n {'berries', 'cake bar'},\n {'butter milk', 'root vegetables'},\n {'hamburger meat', 'red/blush wine'},\n {'butter', 'frozen meals', 'newspapers', 'yogurt'},\n {'canned beer', 'shopping bags'},\n {'canned beer', 'frozen fish', 'rolls/buns', 'spices'},\n {'butter', 'sliced cheese'},\n {'baking powder', 'rolls/buns'},\n {'curd', 'liquor', 'tropical fruit', 'yogurt'},\n {'beef', 'napkins'},\n {'whipped/sour cream', 'whole milk'},\n {'fruit/vegetable juice', 'sausage'},\n {'chicken', 'frozen meals'},\n {'curd', 'male cosmetics'},\n {'domestic eggs', 'soda'},\n {'sausage', 'specialty bar', 'whipped/sour cream'},\n {'packaged fruit/vegetables',\n  'rolls/buns',\n  'root vegetables',\n  'whipped/sour cream'},\n {'berries', 'bottled beer', 'white bread', 'yogurt'},\n {'fish', 'other vegetables', 'root vegetables', 'tropical fruit'},\n {'coffee', 'shopping bags'},\n {'cream cheese ', 'ham'},\n {'canned beer', 'uht-milk'},\n {'long life bakery product', 'root vegetables'},\n {'dessert', 'pickled vegetables', 'rolls/buns', 'sausage'},\n {'citrus fruit', 'yogurt'},\n {'butter', 'candy', 'dental care', 'fruit/vegetable juice', 'salty snack'},\n {'canned beer', 'root vegetables', 'whipped/sour cream'},\n {'salt', 'softener', 'whole milk'},\n {'bottled water', 'rolls/buns'},\n {'red/blush wine', 'rolls/buns'},\n {'hamburger meat', 'pork'},\n {'baking powder', 'bottled water', 'onions', 'rolls/buns'},\n {'rolls/buns', 'sugar'},\n {'butter', 'soda'},\n {'canned beer', 'flower (seeds)', 'onions'},\n {'root vegetables', 'specialty chocolate'},\n {'dessert', 'ham'},\n {'ice cream', 'pot plants'},\n {'beverages', 'cream cheese '},\n {'berries', 'other vegetables'},\n {'newspapers', 'whipped/sour cream'},\n {'pastry', 'shopping bags', 'white bread', 'whole milk'},\n {'berries',\n  'butter',\n  'cream cheese ',\n  'other vegetables',\n  'soda',\n  'white bread'},\n {'ice cream', 'whipped/sour cream'},\n {'root vegetables', 'yogurt'},\n {'frankfurter', 'pastry'},\n {'dessert', 'fruit/vegetable juice'},\n {'rolls/buns', 'sausage', 'snack products'},\n {'rolls/buns', 'soda', 'tropical fruit'},\n {'chicken', 'waffles'},\n {'cat food', 'cling film/bags', 'pip fruit', 'yogurt'},\n {'bottled water', 'domestic eggs', 'frozen meals'},\n {'newspapers', 'tropical fruit'},\n {'frozen vegetables', 'whole milk'},\n {'pip fruit', 'salt', 'white bread', 'white wine'},\n {'rolls/buns', 'whole milk', 'yogurt'},\n {'frozen vegetables', 'sausage'},\n {'newspapers', 'whole milk'},\n {'fruit/vegetable juice', 'vinegar'},\n {'rolls/buns', 'tropical fruit', 'white bread'},\n {'cake bar', 'chewing gum', 'citrus fruit', 'shopping bags'},\n {'canned beer', 'frankfurter', 'yogurt'},\n {'margarine', 'napkins'},\n {'pip fruit', 'whipped/sour cream', 'whole milk'},\n {'butter', 'fruit/vegetable juice', 'pork', 'sausage', 'whole milk'},\n {'frozen meals', 'herbs', 'pip fruit'},\n {'other vegetables', 'specialty chocolate'},\n {'butter', 'cake bar', 'instant food products', 'whipped/sour cream'},\n {'rolls/buns', 'salty snack'},\n {'pasta', 'rolls/buns', 'whole milk'},\n {'rolls/buns', 'yogurt'},\n {'root vegetables', 'white bread'},\n {'chicken', 'onions', 'packaged fruit/vegetables', 'tropical fruit'},\n {'candy', 'chicken', 'frozen vegetables'},\n {'brown bread', 'tropical fruit', 'whole milk'},\n {'dessert', 'prosecco'},\n {'hamburger meat', 'yogurt'},\n {'bottled water', 'citrus fruit'},\n {'other vegetables', 'whole milk'},\n {'beef', 'dessert'},\n {'sliced cheese', 'tropical fruit'},\n {'chocolate marshmallow', 'napkins', 'whole milk'},\n {'citrus fruit', 'rolls/buns', 'whole milk'},\n {'other vegetables', 'tropical fruit'},\n {'curd', 'root vegetables'},\n {'fruit/vegetable juice', 'instant food products', 'specialty chocolate'},\n {'butter', 'root vegetables', 'yogurt'},\n {'chicken', 'onions'},\n {'pastry', 'whole milk'},\n {'bottled water', 'pork'},\n {'pip fruit', 'soda'},\n {'curd', 'soda'},\n {'butter', 'sweet spreads'},\n {'condensed milk', 'rolls/buns', 'soda', 'whole milk'},\n {'rolls/buns', 'tropical fruit'},\n {'margarine', 'specialty bar'},\n {'butter', 'whole milk'},\n {'candy', 'white bread'},\n {'frankfurter', 'herbs'},\n {'beverages', 'waffles'},\n {'cat food', 'pasta', 'yogurt'},\n {'house keeping products', 'yogurt'},\n {'hygiene articles', 'whipped/sour cream'},\n {'dishes', 'other vegetables', 'uht-milk'},\n {'meat', 'whole milk'},\n {'bottled beer', 'hamburger meat'},\n {'coffee', 'frozen vegetables', 'pork'},\n {'shopping bags'},\n {'cream cheese ', 'fish', 'red/blush wine', 'tropical fruit'},\n {'dishes', 'other vegetables', 'rolls/buns', 'soda'},\n {'female sanitary products',\n  'hamburger meat',\n  'other vegetables',\n  'popcorn',\n  'tropical fruit'},\n {'grapes', 'root vegetables'},\n {'beverages', 'chicken', 'coffee'},\n {'beef', 'shopping bags'},\n {'hamburger meat', 'soda'},\n {'butter', 'dog food'},\n {'soda', 'whole milk'},\n {'bottled water', 'chewing gum'},\n {'frankfurter', 'whipped/sour cream'},\n {'butter milk', 'margarine', 'yogurt'},\n {'detergent',\n  'other vegetables',\n  'pork',\n  'shopping bags',\n  'soft cheese',\n  'yogurt'},\n {'soda'},\n {'chicken', 'frozen vegetables'},\n {'rolls/buns', 'waffles'},\n {'sugar', 'whole milk'},\n {'other vegetables', 'whole milk'},\n {'hamburger meat', 'pastry'},\n {'fruit/vegetable juice', 'soda'},\n {'bottled beer', 'oil'},\n {'citrus fruit', 'frankfurter', 'margarine'},\n {'other vegetables', 'photo/film'},\n {'pork', 'white wine'},\n {'bottled water', 'newspapers', 'soda', 'yogurt'},\n {'ham', 'whole milk'},\n {'meat spreads', 'whipped/sour cream'},\n {'other vegetables', 'pip fruit'},\n {'pickled vegetables', 'salty snack'},\n {'domestic eggs', 'sliced cheese', 'soda'},\n {'tropical fruit', 'uht-milk'},\n {'chicken', 'other vegetables'},\n {'root vegetables', 'yogurt'},\n {'bottled water', 'sausage'},\n {'other vegetables', 'root vegetables'},\n {'cling film/bags', 'salty snack', 'sausage'},\n {'dessert', 'spread cheese'},\n {'bottled beer', 'fruit/vegetable juice', 'soda'},\n {'beef', 'chocolate'},\n {'hard cheese', 'whipped/sour cream'},\n {'beverages', 'dessert'},\n {'instant food products',\n  'margarine',\n  'root vegetables',\n  'tropical fruit',\n  'whole milk'},\n {'sauces', 'whole milk'},\n {'ham', 'ketchup', 'whipped/sour cream'},\n {'frozen fruits', 'white bread'},\n {'long life bakery product',\n  'other vegetables',\n  'tropical fruit',\n  'whole milk'},\n {'butter', 'other vegetables', 'shopping bags', 'whole milk', 'yogurt'},\n {'citrus fruit', 'whole milk'},\n {'candy', 'rolls/buns'},\n {'root vegetables', 'whole milk'},\n {'cream cheese ', 'rolls/buns'},\n {'long life bakery product', 'other vegetables', 'root vegetables'},\n {'long life bakery product', 'rum', 'tropical fruit', 'whole milk'},\n {'hamburger meat', 'soda'},\n {'rolls/buns', 'tropical fruit'},\n {'frozen fish', 'red/blush wine'},\n {'beef', 'dessert'},\n {'frankfurter', 'tropical fruit'},\n {'bottled beer', 'root vegetables'},\n {'other vegetables', 'whole milk'},\n {'oil', 'shopping bags'},\n {'tropical fruit', 'whole milk'},\n {'chocolate', 'coffee', 'rolls/buns', 'tropical fruit'},\n {'hamburger meat', 'pork'},\n {'soda', 'yogurt'},\n {'pork', 'spread cheese'},\n {'pork', 'rolls/buns'},\n {'brown bread', 'fruit/vegetable juice'},\n {'domestic eggs', 'salt'},\n {'bottled beer', 'dishes', 'sliced cheese', 'tropical fruit'},\n {'cream cheese ', 'newspapers'},\n {'citrus fruit', 'red/blush wine'},\n {'fruit/vegetable juice', 'roll products ', 'yogurt'},\n {'ham', 'other vegetables'},\n {'canned beer', 'frankfurter'},\n {'brown bread', 'salt'},\n {'bottled water', 'domestic eggs', 'yogurt'},\n {'brown bread', 'dishes', 'finished products'},\n {'curd', 'pip fruit', 'prosecco'},\n {'candy', 'detergent'},\n {'ketchup', 'semi-finished bread'},\n {'oil', 'shopping bags'},\n {'instant coffee', 'misc. beverages'},\n {'flower (seeds)', 'fruit/vegetable juice'},\n {'canned fish', 'uht-milk'},\n {'pip fruit', 'rolls/buns'},\n {'dishes', 'frankfurter', 'frozen meals'},\n {'bottled water', 'citrus fruit', 'frankfurter', 'fruit/vegetable juice'},\n {'brown bread', 'sausage'},\n {'bottled water', 'butter', 'chicken', 'frankfurter'},\n {'coffee', 'ham', 'whole milk'},\n {'bottled water', 'butter', 'sausage'},\n {'butter', 'other vegetables'},\n {'pasta', 'pastry'},\n {'artif. sweetener', 'canned beer', 'rolls/buns', 'soda'},\n {'brown bread', 'white bread'},\n {'rolls/buns', 'root vegetables'},\n {'soda', 'tropical fruit'},\n {'chicken', 'soda'},\n {'coffee', 'curd', 'frankfurter', 'rolls/buns', 'white bread'},\n {'bottled water', 'red/blush wine', 'sweet spreads'},\n {'napkins', 'onions', 'rolls/buns'},\n {'canned beer', 'soda'},\n {'frozen vegetables', 'pet care', 'root vegetables'},\n {'beverages', 'yogurt'},\n {'tropical fruit', 'whole milk'},\n {'baking powder',\n  'bottled beer',\n  'specialty bar',\n  'tropical fruit',\n  'yogurt'},\n {'butter milk', 'coffee'},\n {'frankfurter', 'newspapers', 'other vegetables', 'pastry', 'whole milk'},\n {'bottled water', 'hygiene articles'},\n {'beef', 'margarine', 'other vegetables'},\n {'bathroom cleaner', 'soda', 'specialty chocolate'},\n {'hamburger meat', 'whole milk'},\n {'pork', 'sliced cheese'},\n {'other vegetables', 'pip fruit'},\n {'other vegetables', 'shopping bags', 'soda'},\n {'newspapers', 'yogurt'},\n {'citrus fruit', 'root vegetables'},\n {'rolls/buns', 'soda'},\n {'canned beer', 'herbs', 'margarine'},\n {'ice cream', 'whipped/sour cream'},\n {'beef', 'butter', 'curd', 'other vegetables', 'soda'},\n {'citrus fruit', 'rolls/buns'},\n {'beverages', 'sausage'},\n {'whole milk'},\n {'specialty chocolate', 'white bread'},\n {'other vegetables', 'whole milk'},\n {'ham', 'white bread'},\n {'berries', 'coffee'},\n {'flower (seeds)', 'jam', 'soda'},\n {'chocolate', 'pip fruit', 'sausage'},\n {'cake bar', 'herbs', 'pot plants'},\n {'berries', 'yogurt'},\n {'hard cheese', 'whole milk'},\n {'baking powder',\n  'domestic eggs',\n  'meat',\n  'other vegetables',\n  'tropical fruit'},\n {'sauces', 'yogurt'},\n {'beef', 'yogurt'},\n {'detergent',\n  'dishes',\n  'napkins',\n  'pastry',\n  'sausage',\n  'specialty chocolate',\n  'whisky',\n  'yogurt'},\n {'ice cream', 'whole milk'},\n {'newspapers', 'yogurt'},\n {'photo/film', 'shopping bags'},\n {'frozen vegetables',\n  'other vegetables',\n  'root vegetables',\n  'soda',\n  'specialty bar'},\n {'bottled beer',\n  'bottled water',\n  'domestic eggs',\n  'grapes',\n  'instant food products',\n  'rolls/buns',\n  'salty snack',\n  'sausage'},\n {'bottled beer', 'frankfurter', 'other vegetables'},\n {'dessert', 'domestic eggs'},\n {'pasta', 'waffles', 'whole milk'},\n {'newspapers', 'salty snack'},\n {'chocolate marshmallow', 'other vegetables'},\n {'brown bread', 'whole milk'},\n {'detergent', 'flour', 'hamburger meat'},\n {'soda', 'tropical fruit'},\n {'misc. beverages', 'root vegetables', 'sausage', 'tropical fruit'},\n {'sausage', 'whole milk'},\n {'shopping bags', 'yogurt'},\n {'flour', 'pickled vegetables'},\n {'bottled water', 'domestic eggs', 'packaged fruit/vegetables', 'pork'},\n {'fruit/vegetable juice', 'pip fruit'},\n {'root vegetables', 'shopping bags'},\n {'cake bar', 'sausage', 'whole milk'},\n {'hard cheese', 'whole milk'},\n {'curd', 'shopping bags', 'whipped/sour cream'},\n {'curd', 'soda', 'tropical fruit', 'whole milk'},\n {'bottled water', 'frankfurter', 'whipped/sour cream'},\n {'citrus fruit', 'dessert'},\n {'candy', 'tropical fruit'},\n {'cat food', 'rolls/buns', 'shopping bags'},\n {'canned beer',\n  'citrus fruit',\n  'frankfurter',\n  'hard cheese',\n  'specialty chocolate',\n  'tropical fruit',\n  'whole milk',\n  'yogurt'},\n {'canned beer', 'napkins', 'rolls/buns'},\n {'bottled water', 'cat food', 'frozen vegetables', 'root vegetables'},\n {'grapes', 'other vegetables'},\n {'brown bread', 'pip fruit'},\n {'instant coffee', 'root vegetables'},\n {'pork', 'spread cheese'},\n {'hamburger meat', 'pasta'},\n {'whole milk', 'yogurt'},\n {'butter',\n  'butter milk',\n  'grapes',\n  'hygiene articles',\n  'pudding powder',\n  'soda'},\n {'processed cheese', 'whole milk'},\n {'brown bread', 'sparkling wine'},\n {'other vegetables', 'rolls/buns', 'whipped/sour cream'},\n {'frozen vegetables', 'root vegetables'},\n {'candy', 'white wine'},\n {'beverages', 'brown bread', 'yogurt'},\n {'detergent', 'other vegetables', 'white bread'},\n {'candles', 'chicken', 'pastry'},\n {'hygiene articles', 'tea', 'waffles'},\n {'cream', 'yogurt'},\n {'herbs', 'ice cream'},\n {'root vegetables', 'yogurt'},\n {'domestic eggs', 'yogurt'},\n {'herbs', 'other vegetables', 'rolls/buns', 'yogurt'},\n {'pork', 'whole milk'},\n {'other vegetables', 'white bread'},\n {'bottled water', 'tropical fruit', 'whole milk', 'yogurt'},\n {'beef', 'newspapers', 'specialty fat'},\n {'newspapers', 'onions'},\n {'rolls/buns', 'semi-finished bread'},\n {'pastry', 'whole milk'},\n {'rolls/buns', 'shopping bags'},\n {'citrus fruit', 'misc. beverages'},\n {'chicken', 'liver loaf', 'rolls/buns', 'shopping bags', 'spread cheese'},\n {'citrus fruit', 'misc. beverages'},\n {'canned beer', 'grapes', 'pastry', 'whipped/sour cream'},\n {'frozen potato products', 'specialty cheese'},\n {'oil', 'pastry', 'salty snack'},\n {'brown bread', 'shopping bags', 'whole milk'},\n {'chocolate', 'whole milk'},\n {'curd', 'sugar'},\n {'margarine', 'pip fruit'},\n {'pastry', 'pip fruit', 'salty snack'},\n {'citrus fruit', 'frozen vegetables', 'margarine'},\n {'margarine', 'yogurt'},\n {'liquor', 'pickled vegetables'},\n {'bottled water', 'chocolate'},\n {'salty snack', 'soda'},\n {'ham', 'yogurt'},\n {'baking powder', 'butter', 'curd', 'dishes', 'margarine', 'pastry'},\n {'soda', 'whole milk'},\n {'frozen vegetables', 'soda', 'uht-milk', 'whole milk'},\n {'other vegetables', 'whipped/sour cream'},\n {'bottled water', 'flour', 'sugar'},\n {'beef', 'semi-finished bread'},\n {'dish cleaner', 'ice cream', 'jam', 'newspapers'},\n {'canned beer', 'curd'},\n {'newspapers', 'whole milk', 'yogurt'},\n {'domestic eggs', 'pork', 'pudding powder'},\n {'baking powder', 'bottled beer', 'specialty bar'},\n {'root vegetables', 'shopping bags'},\n {'brown bread', 'chocolate', 'salty snack'},\n {'citrus fruit', 'root vegetables'},\n {'chicken', 'shopping bags'},\n {'misc. beverages', 'uht-milk', 'white bread'},\n {'dessert', 'dog food', 'sausage', 'shopping bags'},\n {'butter', 'other vegetables'},\n {'root vegetables', 'turkey'},\n {'whipped/sour cream', 'yogurt'},\n {'other vegetables', 'yogurt'},\n {'napkins', 'other vegetables'},\n {'brown bread', 'butter milk', 'canned vegetables', 'soda'},\n {'brown bread', 'soda'},\n {'other vegetables', 'zwieback'},\n {'cream cheese ',\n  'hard cheese',\n  'liquor',\n  'newspapers',\n  'other vegetables',\n  'root vegetables'},\n {'bottled water', 'chicken'},\n {'beverages', 'newspapers', 'rolls/buns', 'white bread'},\n {'frankfurter', 'rolls/buns'},\n {'meat', 'whipped/sour cream', 'whole milk'},\n {'bottled beer', 'frozen vegetables', 'sliced cheese'},\n {'canned beer', 'pip fruit', 'processed cheese'},\n {'berries', 'condensed milk'},\n {'curd', 'house keeping products', 'pickled vegetables', 'rolls/buns'},\n {'ham', 'yogurt'},\n {'butter', 'hair spray', 'pastry', 'whole milk'},\n {'grapes', 'whole milk'},\n {'sugar', 'tropical fruit'},\n {'newspapers', 'soda', 'uht-milk', 'white bread'},\n {'brown bread', 'citrus fruit'},\n {'meat', 'other vegetables'},\n {'chocolate marshmallow',\n  'condensed milk',\n  'pastry',\n  'rice',\n  'tropical fruit'},\n {'other vegetables', 'specialty bar'},\n {'coffee', 'shopping bags'},\n {'chicken', 'dishes'},\n {'frozen vegetables', 'root vegetables'},\n {'bottled water', 'citrus fruit'},\n {'oil', 'rolls/buns', 'yogurt'},\n {'pip fruit', 'whole milk'},\n {'cling film/bags', 'frozen vegetables', 'rolls/buns'},\n {'canned vegetables', 'pork', 'soda'},\n {'bottled beer', 'hygiene articles'},\n {'soda', 'yogurt'},\n {'margarine', 'rolls/buns', 'root vegetables'},\n {'margarine', 'rolls/buns'},\n {'pastry', 'sausage'},\n {'citrus fruit', 'popcorn'},\n {'condensed milk', 'shopping bags'},\n {'rolls/buns', 'whipped/sour cream'},\n {'long life bakery product', 'misc. beverages', 'whole milk'},\n {'napkins', 'newspapers', 'pork', 'root vegetables'},\n {'citrus fruit', 'soda'},\n {'roll products ', 'soda'},\n {'frankfurter', 'margarine', 'rolls/buns', 'shopping bags'},\n {'butter', 'other vegetables', 'pastry', 'uht-milk'},\n {'frozen vegetables', 'soda', 'specialty bar'},\n {'domestic eggs', 'liquor'},\n {'frankfurter', 'white bread'},\n {'coffee', 'meat'},\n {'baking powder', 'whole milk'},\n {'flower (seeds)', 'white wine'},\n {'flower (seeds)', 'frozen meals', 'grapes'},\n {'brown bread', 'shopping bags', 'tea', 'yogurt'},\n {'cream cheese ', 'specialty chocolate'},\n {'margarine', 'soda'},\n {'softener', 'yogurt'},\n {'cream cheese ', 'tropical fruit'},\n {'bottled water', 'dessert', 'frankfurter', 'root vegetables'},\n {'bottled beer', 'whole milk'},\n {'other vegetables',\n  'rolls/buns',\n  'salty snack',\n  'semi-finished bread',\n  'shopping bags'},\n {'soda', 'whole milk'},\n {'pastry', 'yogurt'},\n {'coffee', 'shopping bags'},\n {'rice', 'rolls/buns', 'sausage'},\n {'curd', 'domestic eggs'},\n {'napkins', 'pork', 'whole milk'},\n {'cream cheese ', 'newspapers'},\n {'oil', 'other vegetables'},\n {'brown bread', 'pastry', 'yogurt'},\n {'butter', 'hard cheese'},\n {'other vegetables', 'whole milk'},\n {'butter', 'dessert', 'sausage', 'shopping bags', 'soda'},\n {'citrus fruit', 'flower (seeds)'},\n {'fruit/vegetable juice', 'rolls/buns'},\n {'instant coffee', 'shopping bags'},\n {'butter milk', 'root vegetables'},\n {'other vegetables', 'tropical fruit'},\n {'brown bread', 'butter milk', 'tropical fruit'},\n {'tropical fruit', 'whole milk'},\n {'citrus fruit', 'herbs'},\n {'beef', 'other vegetables'},\n {'canned beer', 'nut snack'},\n {'other vegetables', 'sugar', 'whole milk'},\n {'citrus fruit', 'napkins'},\n {'root vegetables', 'whole milk'},\n {'butter milk', 'rolls/buns'},\n {'soft cheese', 'tropical fruit'},\n {'brown bread', 'canned beer', 'rolls/buns'},\n {'pickled vegetables', 'pork'},\n {'misc. beverages', 'tropical fruit'},\n {'curd', 'frankfurter', 'other vegetables', 'photo/film', 'waffles'},\n {'cling film/bags', 'other vegetables', 'pip fruit'},\n {'rolls/buns', 'soda', 'whole milk'},\n {'tropical fruit', 'yogurt'},\n {'cat food', 'rolls/buns'},\n {'berries', 'white bread'},\n {'newspapers', 'soups'},\n {'rolls/buns', 'soda'},\n {'napkins', 'other vegetables'},\n {'brown bread', 'chicken'},\n {'soda', 'uht-milk'},\n {'pork', 'soda'},\n {'oil', 'pickled vegetables'},\n {'misc. beverages', 'spread cheese'},\n {'soda', 'sugar', 'whole milk'},\n {'domestic eggs', 'pork'},\n {'coffee', 'root vegetables'},\n {'meat', 'whole milk'},\n {'chicken', 'domestic eggs', 'white bread'},\n {'soda', 'whipped/sour cream'},\n {'canned beer', 'fish'},\n {'hard cheese', 'root vegetables', 'white bread'},\n {'brown bread', 'other vegetables'},\n {'bottled beer', 'soda'},\n {'root vegetables', 'tropical fruit'},\n {'curd', 'soft cheese'},\n {'cereals', 'frozen vegetables', 'pip fruit', 'root vegetables'},\n {'berries', 'candy', 'other vegetables', 'sliced cheese'},\n {'soda', 'yogurt'},\n {'bottled water', 'shopping bags', 'waffles'},\n {'bottled beer', 'whole milk'},\n {'margarine', 'pork'},\n {'soda', 'whole milk'},\n {'detergent', 'frozen meals'},\n {'canned fish', 'specialty chocolate'},\n {'other vegetables', 'soda'},\n {'long life bakery product', 'root vegetables', 'soda'},\n {'pork', 'yogurt'},\n {'baking powder',\n  'dog food',\n  'sausage',\n  'shopping bags',\n  'sliced cheese',\n  'white bread',\n  'whole milk',\n  'yogurt'},\n {'pork', 'tropical fruit'},\n {'other vegetables', 'soda'},\n {'bottled beer', 'chicken', 'soda', 'yogurt'},\n {'frozen vegetables', 'seasonal products', 'yogurt'},\n {'bottled water', 'long life bakery product', 'rolls/buns', 'uht-milk'},\n {'berries', 'pip fruit'},\n {'fruit/vegetable juice', 'other vegetables'},\n {'canned beer', 'sugar'},\n {'curd', 'soft cheese'},\n {'berries', 'pastry', 'pip fruit'},\n {'curd cheese', 'soda'},\n {'frozen meals', 'soda'},\n {'rolls/buns', 'whole milk'},\n {'domestic eggs', 'pork'},\n {'canned beer', 'dish cleaner', 'rolls/buns', 'tropical fruit'},\n {'cake bar', 'chicken'},\n {'bottled beer', 'chewing gum', 'ready soups', 'whole milk'},\n {'butter', 'ice cream'},\n {'grapes', 'whole milk'},\n {'frankfurter', 'mustard', 'soft cheese'},\n {'female sanitary products', 'rolls/buns'},\n {'canned beer', 'citrus fruit', 'sausage', 'whole milk'},\n {'frozen vegetables', 'other vegetables', 'root vegetables'},\n {'pet care', 'sausage', 'whole milk', 'yogurt'},\n {'house keeping products', 'whole milk'},\n {'brandy', 'frankfurter'},\n {'berries', 'other vegetables'},\n {'beef', 'curd', 'frozen meals'},\n {'napkins', 'tropical fruit', 'uht-milk', 'whole milk'},\n {'bottled water', 'whole milk'},\n {'citrus fruit', 'yogurt'},\n {'cream cheese ', 'whole milk'},\n {'butter', 'other vegetables', 'rolls/buns', 'root vegetables'},\n {'citrus fruit', 'light bulbs'},\n {'domestic eggs', 'frozen vegetables'},\n {'citrus fruit', 'soda'},\n {'whole milk', 'yogurt'},\n {'root vegetables', 'whole milk'},\n {'frozen meals', 'shopping bags'},\n {'butter', 'chewing gum'},\n {'beef', 'bottled beer', 'coffee', 'domestic eggs'},\n {'mustard', 'pip fruit', 'tropical fruit'},\n {'beef', 'bottled beer', 'newspapers'},\n {'other vegetables', 'spread cheese', 'whole milk', 'yogurt'},\n {'white bread', 'yogurt'},\n {'berries', 'canned beer', 'fruit/vegetable juice', 'male cosmetics'},\n {'coffee', 'misc. beverages'},\n {'red/blush wine', 'salty snack'},\n {'canned beer', 'citrus fruit'},\n {'frozen vegetables', 'white bread'},\n {'bottled water', 'sausage'},\n {'beef', 'bottled water', 'citrus fruit', 'newspapers', 'whole milk'},\n {'other vegetables', 'sliced cheese'},\n {'canned vegetables', 'root vegetables', 'whole milk'},\n {'beef', 'house keeping products'},\n {'frozen vegetables', 'whole milk'},\n {'chocolate', 'packaged fruit/vegetables', 'pork'},\n {'curd', 'spices'},\n {'brown bread', 'root vegetables'},\n {'bottled water', 'tropical fruit'},\n {'other vegetables', 'rolls/buns'},\n {'coffee', 'domestic eggs'},\n {'herbs', 'long life bakery product', 'sweet spreads'},\n {'frankfurter', 'frozen vegetables'},\n {'bottled beer', 'chocolate', 'uht-milk', 'whole milk'},\n {'detergent', 'soda'},\n {'other vegetables', 'rolls/buns'},\n {'other vegetables', 'waffles', 'white bread', 'whole milk'},\n {'margarine', 'soda'},\n {'bottled water', 'liquor'},\n {'napkins'},\n {'cleaner', 'napkins'},\n {'finished products', 'newspapers', 'whipped/sour cream'},\n {'bottled beer', 'cake bar'},\n {'chocolate', 'shopping bags'},\n {'canned beer', 'whole milk'},\n {'pip fruit', 'whipped/sour cream'},\n {'chicken', 'pip fruit'},\n {'sparkling wine', 'whole milk'},\n {'citrus fruit', 'whipped/sour cream'},\n {'bottled water',\n  'dog food',\n  'pork',\n  'rolls/buns',\n  'soda',\n  'turkey',\n  'whole milk'},\n {'soda', 'whipped/sour cream'},\n {'other vegetables', 'soda'},\n {'brown bread', 'pasta'},\n {'beverages', 'specialty chocolate'},\n {'bottled water', 'onions'},\n {'margarine', 'rolls/buns'},\n {'newspapers', 'specialty bar'},\n {'bottled beer', 'fruit/vegetable juice', 'rolls/buns'},\n {'hard cheese', 'rolls/buns'},\n {'citrus fruit', 'syrup'},\n {'baking powder', 'pickled vegetables'},\n {'cling film/bags', 'root vegetables'},\n {'pip fruit', 'whipped/sour cream'},\n {'fruit/vegetable juice', 'rolls/buns', 'soft cheese'},\n {'hamburger meat', 'other vegetables'},\n {'brown bread', 'citrus fruit', 'specialty chocolate'},\n {'oil', 'pasta'},\n {'beef', 'berries', 'bottled water', 'butter', 'chocolate', 'yogurt'},\n {'citrus fruit',\n  'shopping bags',\n  'soda',\n  'white wine',\n  'whole milk',\n  'yogurt'},\n {'bottled water', 'hard cheese', 'sugar'},\n {'soda', 'whole milk'},\n {'other vegetables', 'tropical fruit'},\n {'curd cheese', 'domestic eggs', 'frozen potato products'},\n {'tropical fruit', 'whole milk'},\n {'other vegetables', 'pastry'},\n {'brown bread', 'canned beer', 'dessert', 'rolls/buns'},\n {'shopping bags', 'tropical fruit'},\n {'coffee', 'oil'},\n {'ice cream', 'other vegetables', 'pork', 'salt'},\n {'bottled water', 'chocolate', 'jam'},\n {'cereals', 'soda'},\n {'chicken', 'frozen meals', 'napkins'},\n {'frozen potato products', 'whole milk'},\n {'citrus fruit', 'white bread'},\n {'bottled beer', 'dishes', 'oil', 'whole milk'},\n {'mayonnaise', 'white bread'},\n {'root vegetables', 'sausage'},\n {'butter', 'mustard'},\n {'red/blush wine', 'rolls/buns'},\n {'baking powder', 'candy', 'canned fish'},\n {'hamburger meat', 'ice cream', 'shopping bags', 'soft cheese', 'whole milk'},\n {'beef', 'butter milk'},\n {'hamburger meat', 'pip fruit'},\n {'domestic eggs', 'sausage'},\n {'brown bread',\n  'butter',\n  'ham',\n  'pastry',\n  'root vegetables',\n  'spread cheese'},\n {'bottled beer',\n  'brown bread',\n  'butter',\n  'canned beer',\n  'cream cheese ',\n  'dessert',\n  'other vegetables',\n  'sausage'},\n {'beef', 'newspapers', 'whole milk'},\n {'root vegetables', 'sweet spreads'},\n {'beef', 'frozen meals', 'whole milk'},\n {'canned beer', 'frankfurter'},\n {'chewing gum', 'ice cream'},\n {'chocolate', 'pip fruit', 'specialty bar'},\n {'domestic eggs', 'white bread'},\n {'detergent', 'soda'},\n {'butter', 'soda'},\n {'canned fruit', 'other vegetables', 'whole milk'},\n {'soda'},\n {'citrus fruit', 'domestic eggs'},\n {'onions', 'other vegetables', 'shopping bags'},\n {'bottled water', 'butter milk', 'cleaner'},\n {'bottled beer', 'other vegetables'},\n {'rolls/buns', 'soda', 'whole milk'},\n {'dessert', 'tropical fruit'},\n {'bottled beer', 'sliced cheese'},\n {'bottled beer', 'hamburger meat'},\n {'pip fruit', 'rolls/buns', 'soda'},\n {'bottled water', 'soda'},\n {'specialty chocolate', 'whipped/sour cream'},\n {'canned beer', 'root vegetables'},\n {'meat spreads', 'other vegetables'},\n {'sparkling wine', 'waffles'},\n {'root vegetables'},\n {'berries', 'white bread'},\n {'citrus fruit', 'hamburger meat', 'other vegetables', 'specialty chocolate'},\n {'brown bread', 'pastry'},\n {'butter', 'fruit/vegetable juice', 'seasonal products'},\n {'shopping bags', 'soda'},\n {'citrus fruit', 'root vegetables'},\n {'bottled water', 'honey', 'whole milk'},\n {'napkins', 'pip fruit'},\n {'butter', 'coffee', 'pastry', 'soda'},\n {'butter', 'shopping bags'},\n {'finished products', 'liquor'},\n {'soft cheese', 'whole milk'},\n {'pip fruit', 'shopping bags'},\n {'domestic eggs', 'newspapers'},\n {'bottled beer', 'candy', 'mayonnaise', 'rolls/buns'},\n {'brown bread', 'whole milk'},\n {'pip fruit', 'waffles'},\n {'beef', 'whipped/sour cream'},\n {'chocolate', 'sausage'},\n {'citrus fruit', 'yogurt'},\n {'citrus fruit',\n  'misc. beverages',\n  'packaged fruit/vegetables',\n  'root vegetables',\n  'sliced cheese',\n  'whipped/sour cream',\n  'yogurt'},\n {'citrus fruit', 'napkins'},\n {'frozen fish', 'specialty chocolate'},\n {'newspapers', 'other vegetables', 'specialty chocolate'},\n {'grapes', 'rolls/buns'},\n {'beverages', 'sausage'},\n {'bottled water', 'canned vegetables', 'flour', 'salty snack', 'sugar'},\n {'popcorn', 'rolls/buns', 'white bread', 'whole milk'},\n {'brown bread', 'detergent'},\n {'citrus fruit', 'root vegetables'},\n {'candy', 'canned fish', 'dessert', 'rolls/buns'},\n {'candles', 'whole milk'},\n {'coffee', 'misc. beverages'},\n {'coffee', 'oil'},\n {'roll products ', 'yogurt'},\n {'rolls/buns', 'yogurt'},\n {'curd cheese', 'root vegetables', 'semi-finished bread', 'soda'},\n {'beverages', 'soda'},\n {'root vegetables', 'yogurt'},\n {'waffles', 'whole milk'},\n {'pastry', 'rolls/buns'},\n {'chocolate', 'softener'},\n {'pip fruit', 'sliced cheese'},\n {'bottled beer', 'chicken', 'grapes', 'root vegetables'},\n {'oil', 'whole milk'},\n {'bottled water', 'curd', 'ready soups', 'white bread'},\n {'chewing gum', 'whole milk', 'yogurt'},\n {'candles', 'hygiene articles', 'tropical fruit'},\n {'cat food', 'sausage'},\n {'other vegetables',\n  'pastry',\n  'rolls/buns',\n  'sausage',\n  'soda',\n  'softener',\n  'sugar',\n  'whole milk'},\n {'ham', 'pickled vegetables', 'shopping bags'},\n {'semi-finished bread', 'whole milk', 'yogurt'},\n {'frankfurter', 'whole milk'},\n {'bottled water', 'soft cheese'},\n {'beef', 'pork', 'yogurt'},\n {'frozen meals', 'rolls/buns'},\n {'misc. beverages', 'shopping bags'},\n {'butter milk', 'tropical fruit'},\n {'dessert', 'sausage'},\n {'shopping bags', 'yogurt'},\n {'brown bread', 'ham'},\n {'fruit/vegetable juice', 'long life bakery product', 'specialty cheese'},\n {'butter', 'margarine'},\n {'domestic eggs', 'finished products'},\n {'specialty bar', 'whole milk'},\n {'other vegetables', 'uht-milk'},\n {'rolls/buns', 'salty snack', 'specialty bar', 'tropical fruit'},\n {'butter', 'frankfurter', 'specialty bar', 'yogurt'},\n {'salt', 'tropical fruit'},\n {'beef', 'domestic eggs'},\n {'cat food', 'tropical fruit'},\n {'other vegetables', 'root vegetables'},\n {'beef',\n  'brown bread',\n  'chicken',\n  'dessert',\n  'margarine',\n  'newspapers',\n  'pork'},\n {'domestic eggs', 'fruit/vegetable juice'},\n {'bottled beer', 'citrus fruit'},\n {'syrup', 'waffles'},\n {'chicken', 'meat', 'pip fruit', 'yogurt'},\n {'sauces', 'yogurt'},\n {'grapes', 'root vegetables', 'shopping bags'},\n {'other vegetables', 'pip fruit', 'semi-finished bread', 'sliced cheese'},\n {'citrus fruit', 'long life bakery product'},\n {'onions', 'turkey'},\n {'brown bread', 'canned beer'},\n {'bottled water',\n  'napkins',\n  'pastry',\n  'root vegetables',\n  'soda',\n  'specialty fat',\n  'tropical fruit',\n  'whole milk'},\n {'bottled water', 'citrus fruit', 'grapes'},\n {'sugar', 'whole milk'},\n {'dog food', 'pastry', 'whole milk'},\n {'cling film/bags', 'curd', 'meat'},\n {'frozen meals', 'pork'},\n {'citrus fruit'},\n {'butter', 'sausage', 'whole milk', 'yogurt'},\n {'fruit/vegetable juice', 'other vegetables'},\n {'frozen fish', 'rolls/buns', 'tropical fruit'},\n {'candles', 'meat', 'tropical fruit', 'whole milk'},\n {'brown bread', 'canned beer'},\n {'instant coffee', 'red/blush wine'},\n {'pasta', 'sausage'},\n {'canned beer', 'chocolate', 'margarine'},\n {'pastry', 'waffles'},\n {'butter milk',\n  'dental care',\n  'napkins',\n  'onions',\n  'rice',\n  'rolls/buns',\n  'specialty chocolate'},\n {'frankfurter', 'ice cream'},\n {'bottled water', 'sugar'},\n {'canned beer', 'coffee'},\n {'condensed milk', 'onions'},\n {'butter', 'citrus fruit', 'uht-milk'},\n {'flour', 'packaged fruit/vegetables'},\n {'citrus fruit', 'semi-finished bread', 'yogurt'},\n {'ham', 'rum'},\n {'cooking chocolate', 'uht-milk'},\n {'sausage', 'specialty chocolate'},\n {'pastry', 'rolls/buns'},\n {'curd', 'whole milk'},\n {'jam', 'white bread'},\n {'butter milk', 'seasonal products', 'soda'},\n {'detergent', 'flour', 'shopping bags', 'whole milk'},\n {'bottled beer', 'dessert', 'other vegetables', 'sliced cheese'},\n {'brown bread', 'photo/film'},\n {'hard cheese', 'pastry'},\n {'beef',\n  'citrus fruit',\n  'domestic eggs',\n  'long life bakery product',\n  'soda',\n  'specialty bar',\n  'vinegar',\n  'white bread'},\n {'whipped/sour cream', 'yogurt'},\n {'beverages', 'bottled beer', 'photo/film'},\n {'beef', 'frozen potato products', 'white bread'},\n {'brown bread', 'mustard'},\n {'ham', 'newspapers', 'whipped/sour cream'},\n {'canned beer', 'sliced cheese'},\n {'canned beer', 'soda'},\n {'butter milk', 'soda'},\n {'domestic eggs', 'ham'},\n {'other vegetables', 'whole milk'},\n {'frankfurter', 'misc. beverages', 'pastry'},\n {'margarine', 'yogurt'},\n {'hard cheese', 'soda'},\n {'ice cream', 'onions'},\n {'photo/film', 'whipped/sour cream', 'white wine'},\n {'detergent', 'grapes'},\n {'root vegetables', 'sausage'},\n {'flour', 'pork', 'sliced cheese'},\n {'canned beer', 'pasta'},\n {'bottled water', 'butter', 'grapes'},\n {'bottled beer', 'rolls/buns'},\n {'curd', 'uht-milk'},\n {'other vegetables', 'rolls/buns'},\n {'shopping bags', 'whipped/sour cream'},\n {'canned beer',\n  'margarine',\n  'rolls/buns',\n  'salty snack',\n  'soda',\n  'waffles',\n  'whipped/sour cream'},\n {'chicken', 'whole milk'},\n {'butter milk', 'other vegetables'},\n {'bottled water', 'margarine', 'root vegetables'},\n {'coffee', 'shopping bags', 'yogurt'},\n {'curd', 'pastry'},\n {'root vegetables', 'salty snack'},\n {'bottled water', 'soda'},\n {'condensed milk', 'other vegetables'},\n {'dog food', 'processed cheese'},\n {'butter', 'roll products '},\n {'bottled beer', 'canned beer'},\n {'abrasive cleaner', 'curd', 'other vegetables'},\n {'bottled beer', 'sausage', 'spread cheese'},\n {'shopping bags', 'waffles'},\n {'dishes', 'newspapers', 'pip fruit'},\n {'cling film/bags', 'whole milk'},\n {'butter milk', 'hard cheese'},\n {'cleaner', 'misc. beverages'},\n {'cream cheese ', 'other vegetables', 'pork'},\n {'beverages', 'sugar'},\n {'citrus fruit', 'other vegetables'},\n {'hard cheese', 'rolls/buns'},\n {'ham',\n  'other vegetables',\n  'soda',\n  'sugar',\n  'tropical fruit',\n  'white bread',\n  'whole milk'},\n {'frankfurter', 'margarine'},\n {'roll products ', 'waffles'},\n {'meat', 'soda'},\n {'condensed milk', 'whole milk'},\n {'whipped/sour cream', 'yogurt'},\n {'processed cheese', 'sausage'},\n {'bottled beer', 'bottled water', 'finished products', 'yogurt'},\n {'brown bread', 'tropical fruit'},\n {'hard cheese', 'onions'},\n {'shopping bags', 'soda'},\n {'baking powder',\n  'frozen fish',\n  'frozen vegetables',\n  'oil',\n  'other vegetables',\n  'rolls/buns',\n  'sausage',\n  'whole milk'},\n {'margarine', 'oil'},\n {'long life bakery product', 'pasta', 'soda', 'specialty chocolate'},\n {'specialty cheese', 'whole milk'},\n {'meat', 'other vegetables', 'pasta'},\n {'butter', 'chocolate'},\n {'citrus fruit', 'other vegetables'},\n {'bottled beer', 'bottled water', 'dog food', 'sausage'},\n {'frozen meals', 'sausage'},\n {'beverages', 'domestic eggs', 'pasta', 'sugar'},\n {'shopping bags', 'tropical fruit'},\n {'cling film/bags', 'soda'},\n {'soft cheese', 'uht-milk'},\n {'candy', 'soda'},\n {'bottled water', 'rolls/buns', 'salty snack', 'shopping bags'},\n {'coffee', 'white bread'},\n {'onions', 'soft cheese'},\n {'condensed milk', 'dessert', 'rolls/buns', 'shopping bags'},\n {'shopping bags', 'turkey'},\n {'canned fruit', 'processed cheese', 'shopping bags', 'soda'},\n {'rolls/buns', 'tropical fruit'},\n {'grapes', 'other vegetables'},\n {'canned beer', 'yogurt'},\n {'whipped/sour cream', 'yogurt'},\n {'berries', 'tropical fruit'},\n {'other vegetables', 'uht-milk'},\n {'frozen vegetables', 'other vegetables'},\n {'butter', 'candy'},\n {'butter', 'chicken'},\n {'margarine'},\n {'dessert', 'packaged fruit/vegetables'},\n {'citrus fruit', 'skin care'},\n {'pip fruit', 'tropical fruit'},\n {'frozen vegetables', 'root vegetables'},\n {'beef', 'curd'},\n {'frankfurter', 'whole milk'},\n {'citrus fruit', 'coffee'},\n {'bottled beer', 'frozen meals', 'soda'},\n {'chewing gum', 'other vegetables'},\n {'canned beer', 'dessert', 'fruit/vegetable juice'},\n {'grapes', 'other vegetables'},\n {'dishes', 'pork', 'pot plants', 'soda', 'turkey', 'whole milk'},\n {'chicken', 'pastry'},\n {'liqueur', 'pastry'},\n {'baking powder', 'processed cheese', 'sausage', 'specialty cheese'},\n {'ham', 'napkins'},\n {'specialty bar', 'specialty chocolate', 'white wine'},\n {'red/blush wine', 'soda'},\n {'coffee', 'tea'},\n {'berries', 'domestic eggs'},\n {'other vegetables', 'sugar'},\n {'coffee', 'sausage'},\n {'butter', 'herbs', 'oil', 'uht-milk'},\n {'cream cheese ', 'frozen dessert'},\n {'rolls/buns', 'yogurt'},\n {'coffee', 'yogurt'},\n {'frozen vegetables',\n  'fruit/vegetable juice',\n  'rolls/buns',\n  'whipped/sour cream'},\n {'shopping bags', 'whole milk'},\n {'berries', 'fruit/vegetable juice'},\n {'coffee', 'hamburger meat'},\n {'ice cream', 'whole milk'},\n {'grapes', 'napkins', 'sausage', 'sliced cheese'},\n {'pork', 'root vegetables'},\n {'pip fruit', 'shopping bags'},\n {'curd', 'sausage'},\n {'canned vegetables', 'domestic eggs', 'flower (seeds)', 'whole milk'},\n {'flour', 'hard cheese', 'rolls/buns'},\n {'onions', 'pickled vegetables', 'whole milk'},\n {'frozen meals', 'organic sausage', 'sugar'},\n {'bottled beer', 'frozen meals'},\n {'citrus fruit', 'other vegetables'},\n {'butter', 'tropical fruit', 'white bread'},\n {'semi-finished bread', 'soda', 'tropical fruit', 'yogurt'},\n {'mayonnaise', 'other vegetables', 'sausage', 'tropical fruit'},\n {'bottled water', 'pastry'},\n {'curd', 'sugar'},\n {'specialty bar', 'tropical fruit'},\n {'other vegetables', 'soda', 'whole milk'},\n {'canned fish', 'root vegetables', 'uht-milk', 'waffles'},\n {'domestic eggs', 'hamburger meat', 'other vegetables'},\n {'brown bread', 'pork'},\n {'pork', 'yogurt'},\n {'chicken',\n  'citrus fruit',\n  'cream cheese ',\n  'curd',\n  'other vegetables',\n  'pastry',\n  'pip fruit',\n  'specialty chocolate'},\n {'red/blush wine', 'shopping bags', 'tropical fruit'},\n {'other vegetables', 'sliced cheese'},\n {'butter', 'whole milk'},\n {'brown bread', 'margarine', 'other vegetables'},\n {'misc. beverages', 'whole milk'},\n {'sauces', 'white wine'},\n {'canned fish', 'oil'},\n {'rolls/buns', 'seasonal products'},\n {'root vegetables', 'tropical fruit'},\n {'canned fruit', 'frozen meals', 'red/blush wine'},\n {'other vegetables', 'softener', 'whole milk'},\n {'butter milk', 'liquor', 'other vegetables', 'whole milk'},\n {'cake bar', 'flower soil/fertilizer'},\n {'cereals', 'citrus fruit'},\n {'napkins', 'pork'},\n {'cleaner', 'specialty bar'},\n {'pastry', 'pork'},\n {'artif. sweetener', 'whole milk'},\n {'cream cheese ', 'tidbits'},\n {'dessert', 'rolls/buns'},\n {'coffee', 'other vegetables', 'specialty cheese'},\n {'butter milk', 'domestic eggs', 'frozen potato products', 'shopping bags'},\n {'dental care', 'rolls/buns'},\n {'butter', 'ice cream'},\n {'citrus fruit', 'pastry'},\n {'mustard', 'onions', 'sausage'},\n {'curd', 'hygiene articles'},\n {'butter', 'dessert', 'root vegetables'},\n {'other vegetables', 'whole milk'},\n {'specialty chocolate', 'white bread'},\n {'citrus fruit', 'salt'},\n {'dessert', 'house keeping products'},\n {'hard cheese', 'yogurt'},\n {'bottled beer', 'rolls/buns', 'sausage', 'whole milk'},\n {'cream cheese ', 'semi-finished bread', 'whole milk'},\n {'condensed milk', 'hard cheese'},\n {'brown bread', 'butter'},\n {'rolls/buns', 'sausage'},\n {'frankfurter', 'shopping bags'},\n ...]"
     },
     "execution_count": 30,
     "metadata": {},
     "output_type": "execute_result"
    }
   ],
   "source": [
    "# wczytujemy dane o koszykach\n",
    "\n",
    "def read_baskets(path: str) -> list[tuple[str]]:\n",
    "    with open(path) as f:\n",
    "        raw = f.read()\n",
    "    baskets = [set([y.lower() for y in x.split(',') if y]) for x in raw.split('\\n')[1:] if x]\n",
    "    return baskets\n",
    "\n",
    "def unique_products(baskets: list[tuple[str]]) -> list[str]:\n",
    "    products = set()\n",
    "    for basket in baskets:\n",
    "        products.update(basket)\n",
    "    return sorted(list(products))\n",
    "\n",
    "baskets = read_baskets(PATH)\n",
    "products = unique_products(baskets)\n",
    "baskets"
   ]
  },
  {
   "cell_type": "markdown",
   "metadata": {},
   "source": [
    "|## Część 2. - obliczanie wskaźników"
   ]
  },
  {
   "cell_type": "code",
   "execution_count": 23,
   "metadata": {
    "ExecuteTime": {
     "end_time": "2023-10-18T08:19:32.750597600Z",
     "start_time": "2023-10-18T08:19:19.906630600Z"
    }
   },
   "outputs": [
    {
     "name": "stdout",
     "output_type": "stream",
     "text": [
      "Total keys: 63433\n"
     ]
    }
   ],
   "source": [
    "# obliczamy strukture danych (np. slownik albo graf) przechowujaca wszystkie interesujace wartosci `support`\n",
    "\n",
    "def stringify_tuple(tpl: tuple[str]):\n",
    "    return ','.join(sorted(list(tpl)))\n",
    "\n",
    "def get_supports(baskets: list[set[str]], epsilon: float, depth: int = 2):\n",
    "    # calculate all supports and omit those with support < epsilon\n",
    "    # support with 1 product > epsilon, then go with it to 2 products, etc.\n",
    "    # if we get 2 products > epsilon, then go with it to 3 products, etc.\n",
    "    # use dictionary as a data structure, key = tuple of products, value = support\n",
    "    # remake the keys, so it is a string of products separated by comma - note two same sets has to has the same string\n",
    "    \n",
    "    result = {}\n",
    "    def iterative_all_support():\n",
    "        all_sets_iter = powerset(products)\n",
    "        for current_tuple in all_sets_iter:\n",
    "            if len(current_tuple) == 0:\n",
    "                continue\n",
    "            if len(current_tuple) == depth+1:\n",
    "                break\n",
    "    \n",
    "            current_tuple_key = stringify_tuple(current_tuple)\n",
    "            occurrences = 0\n",
    "            for basket in baskets:\n",
    "                if set(current_tuple).issubset(basket):\n",
    "                    occurrences += 1\n",
    "            calculated_support = occurrences / len(baskets)\n",
    "            if calculated_support < epsilon:\n",
    "                continue\n",
    "            # print(current_tuple, calculated_support)\n",
    "            if calculated_support >= epsilon:\n",
    "                result[current_tuple_key] = calculated_support\n",
    "    \n",
    "    basket_memo = {}\n",
    "    def recursive_all_support(current_products: tuple[str]):\n",
    "        if len(current_products) == depth:\n",
    "            return\n",
    "        for product in products:\n",
    "            if product in current_products: # skip already present product\n",
    "                continue\n",
    "\n",
    "            new_products = current_products + (product,)\n",
    "            new_products_key = stringify_tuple(new_products)\n",
    "            if new_products_key in result: # if already calculated for this set of products, skip it\n",
    "                # print('stopped 2')\n",
    "                continue\n",
    "\n",
    "            # calculate\n",
    "            occurrences = 0\n",
    "            if new_products_key in basket_memo:\n",
    "                occurrences = basket_memo[new_products_key]\n",
    "                # print('memo', new_products, new_products_key, occurrences)\n",
    "            else:\n",
    "                for basket in baskets:\n",
    "                    if set(new_products).issubset(basket):\n",
    "                        occurrences += 1\n",
    "                # print('save', new_products, new_products_key, occurrences)\n",
    "                basket_memo[stringify_tuple(new_products)] = occurrences\n",
    "            calculated_support = occurrences / len(baskets)\n",
    "            # print(new_products, calculated_support)\n",
    "            if calculated_support >= epsilon:\n",
    "                result[new_products_key] = calculated_support\n",
    "                recursive_all_support(new_products)\n",
    "    \n",
    "    # preprocess\n",
    "    basket_tuples_keys = [stringify_tuple(basket) for basket in baskets]\n",
    "    product_baskets_map = {}\n",
    "    memo = {}\n",
    "    \n",
    "    for basket in baskets:\n",
    "        for item in basket:\n",
    "            if item in product_baskets_map:\n",
    "                product_baskets_map[item].append(basket)\n",
    "            else:\n",
    "                product_baskets_map[item] = [basket]\n",
    "    \n",
    "    def iterative_support():\n",
    "        for idx, cur_basket in enumerate(baskets):\n",
    "            # if basket_tuples_keys[idx] in memo:\n",
    "            #     continue\n",
    "            # print(idx, '/', len(baskets))\n",
    "            for possible_basket in powerset(cur_basket):\n",
    "                current_tuple_key = stringify_tuple(possible_basket) # preprocess that\n",
    "                if current_tuple_key in memo:\n",
    "                    continue\n",
    "                occurrences = 0\n",
    "                set_possible_basket = set(possible_basket)\n",
    "                for product in possible_basket:\n",
    "                    for basket in product_baskets_map[product]:\n",
    "                        if set_possible_basket.issubset(basket):\n",
    "                            occurrences += 1\n",
    "                calculated_support = occurrences / len(baskets)\n",
    "                memo[current_tuple_key] = calculated_support\n",
    "                if calculated_support < epsilon:\n",
    "                    continue\n",
    "                result[current_tuple_key] = calculated_support\n",
    "            \n",
    "            # current_tuple_key = basket_tuples_keys[idx]\n",
    "            # \n",
    "            # occurrences = 0\n",
    "            # for product in cur_basket:\n",
    "            #     for basket in product_baskets_map[product]:\n",
    "            #         if cur_basket.issubset(basket):\n",
    "            #             occurrences += 1\n",
    "            # calculated_support = occurrences / len(baskets)\n",
    "            # memo[current_tuple_key] = calculated_support\n",
    "            # if calculated_support < epsilon:\n",
    "            #     continue\n",
    "            # result[current_tuple_key] = calculated_support\n",
    "\n",
    "    iterative_support()\n",
    "\n",
    "    print('Total keys:', len(result.keys()))\n",
    "    return result\n",
    "\n",
    "supports = get_supports(baskets, EPSILON, 1)"
   ]
  },
  {
   "cell_type": "code",
   "execution_count": 24,
   "metadata": {
    "ExecuteTime": {
     "end_time": "2023-10-18T08:19:34.778957100Z",
     "start_time": "2023-10-18T08:19:34.698841200Z"
    }
   },
   "outputs": [],
   "source": [
    "# definiujemy funkcje obliczajace support, confidence i lift\n",
    "\n",
    "def support(supports, products: tuple[str]) -> float:\n",
    "    # calculate support on demand\n",
    "    products_key = stringify_tuple(products)\n",
    "    if products_key in supports:\n",
    "        # print('found support for', products_key, '->', supports[products_key])\n",
    "        return supports[products_key]\n",
    "    else:\n",
    "        occurences = 0\n",
    "        # print('calculating support for', products_key)\n",
    "        products_set = set(products)\n",
    "        for basket in baskets:\n",
    "            if products_set.issubset(basket):\n",
    "                occurences += 1\n",
    "        calculated_support = occurences / len(baskets)\n",
    "        supports[products_key] = calculated_support\n",
    "        # print('just calculated:', occurences, len(baskets), calculated_support)\n",
    "        return calculated_support\n",
    "        \n",
    "\n",
    "def confidence(supports, prior_products: tuple[str], following_products: tuple[str]) -> float:\n",
    "    new_products = prior_products + following_products\n",
    "    # print('confidence:', support(supports, new_products), support(supports, prior_products))\n",
    "    return support(supports, new_products) / support(supports, prior_products)\n",
    "    \n",
    "def lift(supports, prior_products: tuple[str], following_products: tuple[str]) -> float:\n",
    "    new_products = prior_products + following_products\n",
    "    # print(support(supports, new_products) / (support(supports, prior_products) * support(supports, following_products)))\n",
    "    return support(supports, new_products) / (support(supports, prior_products) * support(supports, following_products))"
   ]
  },
  {
   "cell_type": "code",
   "execution_count": 25,
   "metadata": {
    "ExecuteTime": {
     "end_time": "2023-10-18T08:19:35.758419600Z",
     "start_time": "2023-10-18T08:19:35.667913800Z"
    }
   },
   "outputs": [
    {
     "name": "stdout",
     "output_type": "stream",
     "text": [
      "0.02793557441689501\n",
      "0.14354066985645933\n",
      "1.6714389440172768\n"
     ]
    }
   ],
   "source": [
    "print(support(supports, ('whole milk', 'rolls/buns')))\n",
    "print(confidence(supports, ('whole milk', 'rolls/buns'), ('yogurt',)))\n",
    "print(lift(supports, ('whole milk', 'rolls/buns'), ('yogurt',)))"
   ]
  },
  {
   "cell_type": "markdown",
   "metadata": {},
   "source": [
    "## Część 3. - generowanie rekomendacji"
   ]
  },
  {
   "cell_type": "code",
   "execution_count": 26,
   "metadata": {
    "ExecuteTime": {
     "end_time": "2023-10-18T08:19:37.452109700Z",
     "start_time": "2023-10-18T08:19:37.419135800Z"
    }
   },
   "outputs": [],
   "source": [
    "# wyznaczamy liste potencjalnych rekomendacji\n",
    "# rekomendowane artykuly powinny miec lift > 1 i mozliwie wysokie confidence\n",
    "\n",
    "def generate_next_product_candidates(basket: set[str], products: list[str], supports: dict):\n",
    "    result = []\n",
    "    basket_tuple = tuple(basket)\n",
    "    for product in products:\n",
    "        if product in basket: #skip already used product\n",
    "            continue\n",
    "        if lift(supports, basket_tuple, (product,)) > 1:\n",
    "            result.append((product, confidence(supports, basket_tuple, (product,)), lift(supports, basket_tuple, (product,))))\n",
    "    # return result sorted by confidence\n",
    "    return sorted(result, key=lambda x: x[1], reverse=True)\n",
    "    "
   ]
  },
  {
   "cell_type": "code",
   "execution_count": 31,
   "metadata": {
    "ExecuteTime": {
     "end_time": "2023-10-18T08:24:51.213263500Z",
     "start_time": "2023-10-18T08:24:50.959542500Z"
    }
   },
   "outputs": [
    {
     "name": "stdout",
     "output_type": "stream",
     "text": [
      "butter, brown bread\n",
      "----------------------------------------------------------------------------------\n",
      "|              canned beer |           0.3            | 6.394444444444445        |\n",
      "|            baking powder |   0.19999999999999998    | 24.732231404958675       |\n",
      "|             bottled beer |   0.19999999999999998    | 4.41386430678466         |\n",
      "|                  dessert |   0.19999999999999998    | 8.477620396600567        |\n",
      "|    fruit/vegetable juice |   0.19999999999999998    | 5.879371316306483        |\n",
      "|                      ham |   0.19999999999999998    | 11.68984375              |\n",
      "|            shopping bags |   0.19999999999999998    | 4.203089887640449        |\n",
      "|                     soda |   0.19999999999999998    | 2.059600825877495        |\n",
      "|            spread cheese |   0.19999999999999998    | 29.926                   |\n",
      "|               whole milk |   0.19999999999999998    | 1.2664409648751587       |\n",
      "|                     beef |   0.09999999999999999    | 2.945472440944882        |\n",
      "|            bottled water |   0.09999999999999999    | 1.647907488986784        |\n",
      "|              butter milk |   0.09999999999999999    | 5.6893536121673          |\n",
      "|             citrus fruit |   0.09999999999999999    | 1.8821383647798742       |\n",
      "|                   coffee |   0.09999999999999999    | 3.163424947145877        |\n",
      "|            cream cheese  |   0.09999999999999999    | 4.22683615819209         |\n",
      "|              dental care |   0.09999999999999999    | 45.34242424242424        |\n",
      "|              frankfurter |   0.09999999999999999    | 2.6483185840707963       |\n",
      "|         hygiene articles |   0.09999999999999999    | 7.299024390243902        |\n",
      "| long life bakery product |   0.09999999999999999    | 5.5832089552238795       |\n",
      "|                margarine |   0.09999999999999999    | 3.1043568464730287       |\n",
      "|              nuts/prunes |   0.09999999999999999    | 45.34242424242424        |\n",
      "|                   pastry |   0.09999999999999999    | 1.933204134366925        |\n",
      "|                     pork |   0.09999999999999999    | 2.6960360360360363       |\n",
      "|          root vegetables |   0.09999999999999999    | 1.437367915465898        |\n",
      "|                  sausage |   0.09999999999999999    | 1.6570321151716498       |\n",
      "|                    sugar |   0.09999999999999999    | 5.6464150943396225       |\n",
      "|                 uht-milk |   0.09999999999999999    | 4.6759375                |\n"
     ]
    }
   ],
   "source": [
    "def pretty_print(chosen_basket, candidates):\n",
    "    print(', '.join(chosen_basket))\n",
    "    print(''.join(['-' for _ in range(82)]))\n",
    "    for candidate in candidates:\n",
    "        print('| {:>24} | {:^24} | {:<24} |'.format(*candidate))\n",
    "    print()\n",
    "# chosen_basket = {'sausage', 'frankfurter'}\n",
    "chosen_basket = {'brown bread', 'butter'}\n",
    "# chosen_basket = {'whole milk', 'coffee'}\n",
    "pretty_print(chosen_basket, generate_next_product_candidates(chosen_basket, products, supports))"
   ]
  },
  {
   "cell_type": "code",
   "execution_count": null,
   "outputs": [],
   "source": [],
   "metadata": {
    "collapsed": false
   }
  }
 ],
 "metadata": {
  "kernelspec": {
   "display_name": "Python 3",
   "language": "python",
   "name": "python3"
  },
  "language_info": {
   "codemirror_mode": {
    "name": "ipython",
    "version": 3
   },
   "file_extension": ".py",
   "mimetype": "text/x-python",
   "name": "python",
   "nbconvert_exporter": "python",
   "pygments_lexer": "ipython3",
   "version": "3.7.3"
  }
 },
 "nbformat": 4,
 "nbformat_minor": 4
}
